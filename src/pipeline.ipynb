{
 "cells": [
  {
   "cell_type": "markdown",
   "metadata": {},
   "source": [
    "# Pipeline"
   ]
  },
  {
   "cell_type": "markdown",
   "metadata": {},
   "source": [
    "## Imports"
   ]
  },
  {
   "cell_type": "code",
   "execution_count": 1,
   "metadata": {},
   "outputs": [],
   "source": [
    "import os\n",
    "import tensorflow as tf\n",
    "import random\n",
    "import wandb\n",
    "from wandb.keras import WandbCallback\n",
    "\n",
    "from preprocessing import preprocess\n",
    "from dataset import make_dataset\n",
    "from scaling import get_train_mean_std\n",
    "from model import CRNN\n",
    "from util import *"
   ]
  },
  {
   "cell_type": "markdown",
   "metadata": {},
   "source": [
    "## Paths"
   ]
  },
  {
   "cell_type": "code",
   "execution_count": 2,
   "metadata": {},
   "outputs": [],
   "source": [
    "DATA_DIR = \"../../data/\"\n",
    "TRAIN_DIR = \"train-clean-360/LibriSpeech/train-clean-360/\"\n",
    "VALID_DIR = \"dev-clean/LibriSpeech/dev-clean/\"\n",
    "TEST_DIR = \"test-clean/LibriSpeech/test-clean/\"\n",
    "NOISE_DIR = \"noise/\"\n",
    "\n",
    "PROCESSED_DIR = os.path.join(DATA_DIR, \"processed/\")\n",
    "DATASET_DIR = os.path.join(DATA_DIR, \"dataset/\")\n",
    "MODEL_DIR = \"../models/\""
   ]
  },
  {
   "cell_type": "markdown",
   "metadata": {},
   "source": [
    "## Parameters"
   ]
  },
  {
   "cell_type": "markdown",
   "metadata": {},
   "source": [
    "#### Dataset Paraameters"
   ]
  },
  {
   "cell_type": "code",
   "execution_count": 3,
   "metadata": {},
   "outputs": [],
   "source": [
    "initial_s = 10\n",
    "s = 5\n",
    "max_k = 10\n",
    "sample_rate = 16000\n",
    "preprocessing = False\n",
    "create_dataset = False\n",
    "samples = [25, 10, 10] # [1820, 520, 520]\n",
    "datasets = [\"train\", \"valid\", \"test\"]"
   ]
  },
  {
   "cell_type": "markdown",
   "metadata": {},
   "source": [
    "#### Training Parameters"
   ]
  },
  {
   "cell_type": "code",
   "execution_count": 4,
   "metadata": {},
   "outputs": [],
   "source": [
    "lr = 1e-3\n",
    "epochs = 1\n",
    "batch_size = 32"
   ]
  },
  {
   "cell_type": "markdown",
   "metadata": {},
   "source": [
    "## Weights & Biases"
   ]
  },
  {
   "cell_type": "code",
   "execution_count": 5,
   "metadata": {},
   "outputs": [
    {
     "name": "stderr",
     "output_type": "stream",
     "text": [
      "Failed to detect the name of this notebook, you can set it manually with the WANDB_NOTEBOOK_NAME environment variable to enable code saving.\n",
      "\u001b[34m\u001b[1mwandb\u001b[0m: Currently logged in as: \u001b[33mmarlousnijman\u001b[0m (\u001b[33mspeaker-estimation\u001b[0m). Use \u001b[1m`wandb login --relogin`\u001b[0m to force relogin\n"
     ]
    },
    {
     "data": {
      "text/html": [
       "Tracking run with wandb version 0.12.16"
      ],
      "text/plain": [
       "<IPython.core.display.HTML object>"
      ]
     },
     "metadata": {},
     "output_type": "display_data"
    },
    {
     "data": {
      "text/html": [
       "Run data is saved locally in <code>c:\\Users\\Marlous\\Documents\\Uni\\Automatic_Speech_Recognition\\ASR-speaker-estimation\\src\\wandb\\run-20220522_141534-3h56rz81</code>"
      ],
      "text/plain": [
       "<IPython.core.display.HTML object>"
      ]
     },
     "metadata": {},
     "output_type": "display_data"
    },
    {
     "data": {
      "text/html": [
       "Syncing run <strong><a href=\"https://wandb.ai/speaker-estimation/test-project/runs/3h56rz81\" target=\"_blank\">upbeat-waterfall-6</a></strong> to <a href=\"https://wandb.ai/speaker-estimation/test-project\" target=\"_blank\">Weights & Biases</a> (<a href=\"https://wandb.me/run\" target=\"_blank\">docs</a>)<br/>"
      ],
      "text/plain": [
       "<IPython.core.display.HTML object>"
      ]
     },
     "metadata": {},
     "output_type": "display_data"
    }
   ],
   "source": [
    "wandb.init(project=\"test-project\", entity=\"speaker-estimation\")\n",
    "wandb.config = {\n",
    "  \"learning_rate\": lr,\n",
    "  \"epochs\": epochs,\n",
    "  \"batch_size\": batch_size\n",
    "}"
   ]
  },
  {
   "cell_type": "markdown",
   "metadata": {},
   "source": [
    "## Preprocessing"
   ]
  },
  {
   "cell_type": "code",
   "execution_count": 6,
   "metadata": {},
   "outputs": [],
   "source": [
    "if preprocessing:\n",
    "    input_dirs = [TRAIN_DIR, VALID_DIR, TEST_DIR]\n",
    "\n",
    "    for i, dataset in enumerate(datasets):\n",
    "        print(f\"Processing {dataset} set\")\n",
    "\n",
    "        input_dir = os.path.join(DATA_DIR, input_dirs[i])\n",
    "        output_dir = os.path.join(PROCESSED_DIR, f\"{dataset}/\")\n",
    "\n",
    "        if not os.path.exists(output_dir):\n",
    "            os.makedirs(output_dir)\n",
    "            \n",
    "        preprocess(input_dir, output_dir, initial_s)"
   ]
  },
  {
   "cell_type": "markdown",
   "metadata": {},
   "source": [
    "## Creating Dataset"
   ]
  },
  {
   "cell_type": "code",
   "execution_count": 7,
   "metadata": {},
   "outputs": [
    {
     "name": "stdout",
     "output_type": "stream",
     "text": [
      "Processing train set\n"
     ]
    },
    {
     "name": "stderr",
     "output_type": "stream",
     "text": [
      "  0%|          | 0/10 [00:00<?, ?it/s]c:\\Users\\Marlous\\anaconda3\\envs\\asr\\lib\\site-packages\\pyloudnorm\\normalize.py:31: UserWarning: Possible clipped samples in output.\n",
      "  warnings.warn(\"Possible clipped samples in output.\")\n",
      "100%|██████████| 10/10 [00:08<00:00,  1.23it/s]\n"
     ]
    },
    {
     "name": "stdout",
     "output_type": "stream",
     "text": [
      "Processing valid set\n"
     ]
    },
    {
     "name": "stderr",
     "output_type": "stream",
     "text": [
      " 70%|███████   | 7/10 [00:12<00:05,  1.94s/it]"
     ]
    }
   ],
   "source": [
    "if create_dataset:\n",
    "    for i, dataset in enumerate(datasets):\n",
    "        train = True\n",
    "\n",
    "        print(f\"Processing {dataset} set\")\n",
    "\n",
    "        input_dir = os.path.join(PROCESSED_DIR, f\"{dataset}/\")\n",
    "        output_dir = os.path.join(DATASET_DIR, f\"{dataset}/\")\n",
    "\n",
    "        if not os.path.exists(output_dir):\n",
    "            os.makedirs(output_dir)\n",
    "            \n",
    "        if dataset != \"train\":\n",
    "            train = False\n",
    "            \n",
    "        make_dataset(input_dir, output_dir, max_k, samples[i], train)\n"
   ]
  },
  {
   "cell_type": "markdown",
   "metadata": {},
   "source": [
    "## Add Noise for k = 0"
   ]
  },
  {
   "cell_type": "code",
   "execution_count": null,
   "metadata": {},
   "outputs": [],
   "source": [
    "if create_dataset:\n",
    "    noise_files = get_files(os.path.join(DATA_DIR, NOISE_DIR, \"audio/\"), \".wav\")\n",
    "\n",
    "    speech_categories = [\"cafe/restaurant\", \"grocery_store\", \"metro_station\"]\n",
    "    noise_files = remove_speech_noise(noise_files, os.path.join(DATA_DIR, NOISE_DIR, \"meta.txt\"), speech_categories)\n",
    "\n",
    "    for i, n_samples in enumerate(samples):\n",
    "        print(f\"Processing {datasets[i]} set\")\n",
    "        \n",
    "        # Select same number of noise samples as \n",
    "        # k speaker samples in each dataset\n",
    "        noise_samples = random.sample(noise_files, n_samples)\n",
    "\n",
    "        # Remove used samples\n",
    "        [noise_files.remove(n) for n in noise_samples]\n",
    "\n",
    "        # Downsample and save noise in dataset directories\n",
    "        process_noise(DATASET_DIR, datasets[i], noise_samples, sample_rate)\n"
   ]
  },
  {
   "cell_type": "markdown",
   "metadata": {},
   "source": [
    "## Compute Train Set Mean and Standard Deviation"
   ]
  },
  {
   "cell_type": "code",
   "execution_count": null,
   "metadata": {},
   "outputs": [],
   "source": [
    "mean, std = get_train_mean_std(os.path.join(DATASET_DIR, \"train/\"))\n",
    "print(f\"Dataset mean: {mean}\")\n",
    "print(f\"Dataset std: {std}\")"
   ]
  },
  {
   "cell_type": "markdown",
   "metadata": {},
   "source": [
    "## Train"
   ]
  },
  {
   "cell_type": "markdown",
   "metadata": {},
   "source": [
    "### Data Generators"
   ]
  },
  {
   "cell_type": "code",
   "execution_count": null,
   "metadata": {},
   "outputs": [],
   "source": [
    "train_files = [f for f in os.listdir(os.path.join(DATASET_DIR, \"train/\")) if f.endswith(\".wav\")]\n",
    "valid_files = [f for f in os.listdir(os.path.join(DATASET_DIR, \"valid/\")) if f.endswith(\".wav\")]"
   ]
  },
  {
   "cell_type": "code",
   "execution_count": null,
   "metadata": {},
   "outputs": [],
   "source": [
    "train_generator = CustomDataGenerator(os.path.join(DATASET_DIR, \"train/\"), \n",
    "                                    train_files, dim=(500, 201), \n",
    "                                    max_k=max_k, batch_size=batch_size, \n",
    "                                    mean=mean, std=std, \n",
    "                                    s=s, train=True, shuffle=True)\n",
    "\n",
    "valid_generator = CustomDataGenerator(os.path.join(DATASET_DIR, \"valid/\"), \n",
    "                                    valid_files, dim=(500, 201), \n",
    "                                    max_k=max_k, batch_size=1, \n",
    "                                    mean=mean, std=std, \n",
    "                                    s=s, train=False, shuffle=False)"
   ]
  },
  {
   "cell_type": "markdown",
   "metadata": {},
   "source": [
    "### Model"
   ]
  },
  {
   "cell_type": "code",
   "execution_count": null,
   "metadata": {},
   "outputs": [],
   "source": [
    "model = CRNN((500, 201, 1), max_k)\n",
    "model.summary()"
   ]
  },
  {
   "cell_type": "markdown",
   "metadata": {},
   "source": [
    "### Compile"
   ]
  },
  {
   "cell_type": "code",
   "execution_count": null,
   "metadata": {},
   "outputs": [],
   "source": [
    "model.compile(\n",
    "    optimizer=tf.keras.optimizers.Adam(learning_rate=lr, beta_1=0.9, beta_2=0.999, epsilon=1e-8),\n",
    "    loss=tf.keras.losses.CategoricalCrossentropy(),\n",
    "    metrics=tf.keras.metrics.CategoricalAccuracy(),\n",
    ")"
   ]
  },
  {
   "cell_type": "markdown",
   "metadata": {},
   "source": [
    "### Callbacks"
   ]
  },
  {
   "cell_type": "code",
   "execution_count": null,
   "metadata": {},
   "outputs": [],
   "source": [
    "checkpoint = tf.keras.callbacks.ModelCheckpoint(\n",
    "    filepath=os.path.join(MODEL_DIR, 'weights.{epoch:02d}-{val_loss:.2f}.h5',),\n",
    "    save_weights_only=True,\n",
    "    monitor='val_categorical_accuracy',\n",
    "    mode='max',\n",
    "    save_best_only=True)\n",
    "\n",
    "early_stopping = tf.keras.callbacks.EarlyStopping(\n",
    "    monitor=\"val_loss\",\n",
    "    patience=10,\n",
    ")\n",
    "\n",
    "wandb_callback = WandbCallback(save_model=False)"
   ]
  },
  {
   "cell_type": "markdown",
   "metadata": {},
   "source": [
    "### Model Directory"
   ]
  },
  {
   "cell_type": "code",
   "execution_count": null,
   "metadata": {},
   "outputs": [],
   "source": [
    "if not os.path.exists(MODEL_DIR):\n",
    "    os.makedirs(MODEL_DIR)"
   ]
  },
  {
   "cell_type": "markdown",
   "metadata": {},
   "source": [
    "### Train"
   ]
  },
  {
   "cell_type": "code",
   "execution_count": null,
   "metadata": {},
   "outputs": [],
   "source": [
    "model.fit(train_generator, validation_data=valid_generator, epochs=epochs, callbacks=[checkpoint, early_stopping, wandb_callback])\n",
    "model.save_weights(os.path.join(MODEL_DIR, 'final_weights.h5'))"
   ]
  },
  {
   "cell_type": "code",
   "execution_count": null,
   "metadata": {},
   "outputs": [],
   "source": []
  }
 ],
 "metadata": {
  "interpreter": {
   "hash": "74909c2fc6c5882a3624724f8dc942435399229dca3d992dbbdf50c0cef614e7"
  },
  "kernelspec": {
   "display_name": "Python 3.9.11 ('asr')",
   "language": "python",
   "name": "python3"
  },
  "language_info": {
   "codemirror_mode": {
    "name": "ipython",
    "version": 3
   },
   "file_extension": ".py",
   "mimetype": "text/x-python",
   "name": "python",
   "nbconvert_exporter": "python",
   "pygments_lexer": "ipython3",
   "version": "3.9.11"
  },
  "orig_nbformat": 4
 },
 "nbformat": 4,
 "nbformat_minor": 2
}
