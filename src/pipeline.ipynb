{
 "cells": [
  {
   "cell_type": "markdown",
   "metadata": {},
   "source": [
    "# Pipeline"
   ]
  },
  {
   "cell_type": "markdown",
   "metadata": {},
   "source": [
    "## Imports"
   ]
  },
  {
   "cell_type": "code",
   "execution_count": 1,
   "metadata": {},
   "outputs": [],
   "source": [
    "import os\n",
    "import tensorflow as tf\n",
    "\n",
    "from preprocessing import preprocess\n",
    "from dataset import make_dataset\n",
    "from model import CRNN\n",
    "from util import *\n",
    "import random"
   ]
  },
  {
   "cell_type": "markdown",
   "metadata": {},
   "source": [
    "## Paths"
   ]
  },
  {
   "cell_type": "code",
   "execution_count": 2,
   "metadata": {},
   "outputs": [],
   "source": [
    "DATA_DIR = \"../../data/\"\n",
    "TRAIN_DIR = \"train-clean-360/LibriSpeech/train-clean-360/\"\n",
    "VALID_DIR = \"dev-clean/LibriSpeech/dev-clean/\"\n",
    "TEST_DIR = \"test-clean/LibriSpeech/test-clean/\"\n",
    "NOISE_DIR = \"noise/audio/\"\n",
    "\n",
    "PROCESSED_DIR = os.path.join(DATA_DIR, \"processed/\")\n",
    "DATASET_DIR = os.path.join(DATA_DIR, \"dataset/\")\n",
    "MODEL_DIR = \"../models/\""
   ]
  },
  {
   "cell_type": "markdown",
   "metadata": {},
   "source": [
    "## Parameters"
   ]
  },
  {
   "cell_type": "code",
   "execution_count": 3,
   "metadata": {},
   "outputs": [],
   "source": [
    "initial_s = 10\n",
    "s = 5\n",
    "max_k = 10\n",
    "sample_rate = 16000\n",
    "create_dataset = True"
   ]
  },
  {
   "cell_type": "markdown",
   "metadata": {},
   "source": [
    "## Preprocessing"
   ]
  },
  {
   "cell_type": "code",
   "execution_count": 4,
   "metadata": {},
   "outputs": [],
   "source": [
    "if create_dataset:\n",
    "    input_dirs = [TRAIN_DIR, VALID_DIR, TEST_DIR]\n",
    "    datasets = [\"train\", \"valid\", \"test\"]\n",
    "\n",
    "    for i, dataset in enumerate(datasets):\n",
    "        input_dir = os.path.join(DATA_DIR, input_dirs[i])\n",
    "        output_dir = os.path.join(PROCESSED_DIR, f\"{dataset}/\")\n",
    "\n",
    "        if not os.path.exists(output_dir):\n",
    "            os.makedirs(output_dir)\n",
    "            \n",
    "        preprocess(input_dir, output_dir, initial_s)"
   ]
  },
  {
   "cell_type": "markdown",
   "metadata": {},
   "source": [
    "## Creating Dataset"
   ]
  },
  {
   "cell_type": "code",
   "execution_count": 5,
   "metadata": {},
   "outputs": [
    {
     "name": "stderr",
     "output_type": "stream",
     "text": [
      "c:\\Users\\Marlous\\anaconda3\\envs\\asr\\lib\\site-packages\\pyloudnorm\\normalize.py:31: UserWarning: Possible clipped samples in output.\n",
      "  warnings.warn(\"Possible clipped samples in output.\")\n"
     ]
    }
   ],
   "source": [
    "if create_dataset:\n",
    "    samples = []\n",
    "\n",
    "    for i, dataset in enumerate(datasets):\n",
    "        input_dir = os.path.join(PROCESSED_DIR, f\"{dataset}/\")\n",
    "        output_dir = os.path.join(DATASET_DIR, f\"{dataset}/\")\n",
    "\n",
    "        if not os.path.exists(output_dir):\n",
    "            os.makedirs(output_dir)\n",
    "            \n",
    "        n_samples = make_dataset(input_dir, output_dir, max_k)\n",
    "        samples.append(n_samples)"
   ]
  },
  {
   "cell_type": "markdown",
   "metadata": {},
   "source": [
    "## Add Noise for k = 0"
   ]
  },
  {
   "cell_type": "code",
   "execution_count": 6,
   "metadata": {},
   "outputs": [],
   "source": [
    "if create_dataset:\n",
    "    noise_files = get_files(os.path.join(DATA_DIR, NOISE_DIR), \".wav\")\n",
    "\n",
    "    for i, n_samples in enumerate(samples):\n",
    "        # Select same number of noise samples as \n",
    "        # k speaker samples in each dataset\n",
    "        noise_samples = random.sample(noise_files, n_samples)\n",
    "\n",
    "        # Remove used samples\n",
    "        [noise_files.remove(n) for n in noise_samples]\n",
    "\n",
    "        # Downsample and save noise in dataset directories\n",
    "        process_noise(DATASET_DIR, datasets[i], noise_samples, sample_rate)\n"
   ]
  },
  {
   "cell_type": "markdown",
   "metadata": {},
   "source": [
    "## Train"
   ]
  },
  {
   "cell_type": "markdown",
   "metadata": {},
   "source": [
    "### Data Generators"
   ]
  },
  {
   "cell_type": "code",
   "execution_count": 7,
   "metadata": {},
   "outputs": [],
   "source": [
    "train_files = os.listdir(os.path.join(DATASET_DIR, \"train/\"))\n",
    "valid_files = os.listdir(os.path.join(DATASET_DIR, \"valid/\"))"
   ]
  },
  {
   "cell_type": "code",
   "execution_count": 8,
   "metadata": {},
   "outputs": [],
   "source": [
    "train_generator = CustomDataGenerator(os.path.join(DATASET_DIR, \"train/\"), train_files, dim=(500, 201), max_k=10, batch_size=32, shuffle=True)\n",
    "valid_generator = CustomDataGenerator(os.path.join(DATASET_DIR, \"valid/\"), valid_files, dim=(500, 201), max_k=10, batch_size=1, shuffle=False)"
   ]
  },
  {
   "cell_type": "markdown",
   "metadata": {},
   "source": [
    "### Model"
   ]
  },
  {
   "cell_type": "code",
   "execution_count": 9,
   "metadata": {},
   "outputs": [
    {
     "name": "stdout",
     "output_type": "stream",
     "text": [
      "Model: \"sequential\"\n",
      "_________________________________________________________________\n",
      " Layer (type)                Output Shape              Param #   \n",
      "=================================================================\n",
      " conv2d (Conv2D)             (None, 498, 199, 64)      640       \n",
      "                                                                 \n",
      " conv2d_1 (Conv2D)           (None, 496, 197, 32)      18464     \n",
      "                                                                 \n",
      " max_pooling2d (MaxPooling2D  (None, 165, 65, 32)      0         \n",
      " )                                                               \n",
      "                                                                 \n",
      " conv2d_2 (Conv2D)           (None, 163, 63, 128)      36992     \n",
      "                                                                 \n",
      " conv2d_3 (Conv2D)           (None, 161, 61, 64)       73792     \n",
      "                                                                 \n",
      " max_pooling2d_1 (MaxPooling  (None, 53, 20, 64)       0         \n",
      " 2D)                                                             \n",
      "                                                                 \n",
      " dropout (Dropout)           (None, 53, 20, 64)        0         \n",
      "                                                                 \n",
      " reshape (Reshape)           (None, 53, 1280)          0         \n",
      "                                                                 \n",
      " lstm (LSTM)                 (None, 53, 40)            211360    \n",
      "                                                                 \n",
      " max_pooling1d (MaxPooling1D  (None, 26, 40)           0         \n",
      " )                                                               \n",
      "                                                                 \n",
      " flatten (Flatten)           (None, 1040)              0         \n",
      "                                                                 \n",
      " dense (Dense)               (None, 11)                11451     \n",
      "                                                                 \n",
      " softmax (Softmax)           (None, 11)                0         \n",
      "                                                                 \n",
      "=================================================================\n",
      "Total params: 352,699\n",
      "Trainable params: 352,699\n",
      "Non-trainable params: 0\n",
      "_________________________________________________________________\n"
     ]
    }
   ],
   "source": [
    "model = CRNN((500, 201, 1), max_k)\n",
    "model.summary()"
   ]
  },
  {
   "cell_type": "markdown",
   "metadata": {},
   "source": [
    "### Compile"
   ]
  },
  {
   "cell_type": "code",
   "execution_count": 10,
   "metadata": {},
   "outputs": [],
   "source": [
    "model.compile(\n",
    "    optimizer=tf.keras.optimizers.Adam(learning_rate=1e-3, beta_1=0.9, beta_2=0.999, epsilon=1e-8),\n",
    "    loss=tf.keras.losses.CategoricalCrossentropy(),\n",
    "    metrics=tf.keras.metrics.CategoricalAccuracy(),\n",
    ")"
   ]
  },
  {
   "cell_type": "markdown",
   "metadata": {},
   "source": [
    "### Train"
   ]
  },
  {
   "cell_type": "code",
   "execution_count": 11,
   "metadata": {},
   "outputs": [
    {
     "name": "stdout",
     "output_type": "stream",
     "text": [
      "Epoch 1/10\n",
      "4/4 [==============================] - 50s 12s/step - loss: 2.7198 - categorical_accuracy: 0.0000e+00 - val_loss: 2.4020 - val_categorical_accuracy: 0.0545\n",
      "Epoch 2/10\n",
      "4/4 [==============================] - 47s 12s/step - loss: 2.3838 - categorical_accuracy: 0.1328 - val_loss: 2.3812 - val_categorical_accuracy: 0.1636\n",
      "Epoch 3/10\n",
      "4/4 [==============================] - 44s 11s/step - loss: 2.3693 - categorical_accuracy: 0.1406 - val_loss: 2.3588 - val_categorical_accuracy: 0.1636\n",
      "Epoch 4/10\n",
      "4/4 [==============================] - 41s 10s/step - loss: 2.3572 - categorical_accuracy: 0.1875 - val_loss: 2.3470 - val_categorical_accuracy: 0.1273\n",
      "Epoch 5/10\n",
      "4/4 [==============================] - 41s 10s/step - loss: 2.3371 - categorical_accuracy: 0.1719 - val_loss: 2.3110 - val_categorical_accuracy: 0.1636\n",
      "Epoch 6/10\n",
      "4/4 [==============================] - 41s 10s/step - loss: 2.2994 - categorical_accuracy: 0.1719 - val_loss: 2.2814 - val_categorical_accuracy: 0.1455\n",
      "Epoch 7/10\n",
      "4/4 [==============================] - 41s 10s/step - loss: 2.2446 - categorical_accuracy: 0.2109 - val_loss: 2.1830 - val_categorical_accuracy: 0.1818\n",
      "Epoch 8/10\n",
      "4/4 [==============================] - 41s 10s/step - loss: 2.1281 - categorical_accuracy: 0.2422 - val_loss: 2.0580 - val_categorical_accuracy: 0.2364\n",
      "Epoch 9/10\n",
      "4/4 [==============================] - 41s 10s/step - loss: 2.0005 - categorical_accuracy: 0.2109 - val_loss: 1.9841 - val_categorical_accuracy: 0.2364\n",
      "Epoch 10/10\n",
      "4/4 [==============================] - 41s 10s/step - loss: 1.9060 - categorical_accuracy: 0.2734 - val_loss: 1.8694 - val_categorical_accuracy: 0.2909\n"
     ]
    },
    {
     "data": {
      "text/plain": [
       "<keras.callbacks.History at 0x1ca78307100>"
      ]
     },
     "execution_count": 11,
     "metadata": {},
     "output_type": "execute_result"
    }
   ],
   "source": [
    "model.fit(train_generator, validation_data=valid_generator, epochs=10)"
   ]
  },
  {
   "cell_type": "code",
   "execution_count": null,
   "metadata": {},
   "outputs": [],
   "source": []
  }
 ],
 "metadata": {
  "interpreter": {
   "hash": "74909c2fc6c5882a3624724f8dc942435399229dca3d992dbbdf50c0cef614e7"
  },
  "kernelspec": {
   "display_name": "Python 3.9.11 ('asr')",
   "language": "python",
   "name": "python3"
  },
  "language_info": {
   "codemirror_mode": {
    "name": "ipython",
    "version": 3
   },
   "file_extension": ".py",
   "mimetype": "text/x-python",
   "name": "python",
   "nbconvert_exporter": "python",
   "pygments_lexer": "ipython3",
   "version": "3.9.11"
  },
  "orig_nbformat": 4
 },
 "nbformat": 4,
 "nbformat_minor": 2
}
