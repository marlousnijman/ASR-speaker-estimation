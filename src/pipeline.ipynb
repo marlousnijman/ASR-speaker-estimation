{
 "cells": [
  {
   "cell_type": "markdown",
   "metadata": {},
   "source": [
    "# Pipeline"
   ]
  },
  {
   "cell_type": "markdown",
   "metadata": {},
   "source": [
    "## Imports"
   ]
  },
  {
   "cell_type": "code",
   "execution_count": 1,
   "metadata": {},
   "outputs": [],
   "source": [
    "import os\n",
    "import tensorflow as tf\n",
    "\n",
    "from preprocessing import preprocess\n",
    "from dataset import make_dataset\n",
    "from model import CRNN\n",
    "from util import *\n",
    "import random"
   ]
  },
  {
   "cell_type": "markdown",
   "metadata": {},
   "source": [
    "## Paths"
   ]
  },
  {
   "cell_type": "code",
   "execution_count": 2,
   "metadata": {},
   "outputs": [],
   "source": [
    "DATA_DIR = \"../../data/\"\n",
    "TRAIN_DIR = \"train-clean-360/LibriSpeech/train-clean-360/\"\n",
    "VALID_DIR = \"dev-clean/LibriSpeech/dev-clean/\"\n",
    "TEST_DIR = \"test-clean/LibriSpeech/test-clean/\"\n",
    "NOISE_DIR = \"noise/\"\n",
    "\n",
    "PROCESSED_DIR = os.path.join(DATA_DIR, \"processed/\")\n",
    "DATASET_DIR = os.path.join(DATA_DIR, \"dataset/\")\n",
    "MODEL_DIR = \"../models/\""
   ]
  },
  {
   "cell_type": "markdown",
   "metadata": {},
   "source": [
    "## Parameters"
   ]
  },
  {
   "cell_type": "code",
   "execution_count": 3,
   "metadata": {},
   "outputs": [],
   "source": [
    "initial_s = 10\n",
    "s = 5\n",
    "max_k = 10\n",
    "sample_rate = 16000\n",
    "create_dataset = True\n",
    "samples = [25, 10, 10]"
   ]
  },
  {
   "cell_type": "markdown",
   "metadata": {},
   "source": [
    "## Preprocessing"
   ]
  },
  {
   "cell_type": "code",
   "execution_count": 4,
   "metadata": {},
   "outputs": [
    {
     "name": "stdout",
     "output_type": "stream",
     "text": [
      "Processing train set\n"
     ]
    },
    {
     "name": "stderr",
     "output_type": "stream",
     "text": [
      "100%|██████████| 40/40 [02:43<00:00,  4.09s/it]\n"
     ]
    },
    {
     "name": "stdout",
     "output_type": "stream",
     "text": [
      "Processing valid set\n"
     ]
    },
    {
     "name": "stderr",
     "output_type": "stream",
     "text": [
      "100%|██████████| 20/20 [01:12<00:00,  3.64s/it]\n"
     ]
    },
    {
     "name": "stdout",
     "output_type": "stream",
     "text": [
      "Processing test set\n"
     ]
    },
    {
     "name": "stderr",
     "output_type": "stream",
     "text": [
      "100%|██████████| 20/20 [01:13<00:00,  3.68s/it]\n"
     ]
    }
   ],
   "source": [
    "if create_dataset:\n",
    "    input_dirs = [TRAIN_DIR, VALID_DIR, TEST_DIR]\n",
    "    datasets = [\"train\", \"valid\", \"test\"]\n",
    "\n",
    "    for i, dataset in enumerate(datasets):\n",
    "        print(f\"Processing {dataset} set\")\n",
    "\n",
    "        input_dir = os.path.join(DATA_DIR, input_dirs[i])\n",
    "        output_dir = os.path.join(PROCESSED_DIR, f\"{dataset}/\")\n",
    "\n",
    "        if not os.path.exists(output_dir):\n",
    "            os.makedirs(output_dir)\n",
    "            \n",
    "        preprocess(input_dir, output_dir, initial_s)"
   ]
  },
  {
   "cell_type": "markdown",
   "metadata": {},
   "source": [
    "## Creating Dataset"
   ]
  },
  {
   "cell_type": "code",
   "execution_count": 5,
   "metadata": {},
   "outputs": [
    {
     "name": "stdout",
     "output_type": "stream",
     "text": [
      "Processing train set\n"
     ]
    },
    {
     "name": "stderr",
     "output_type": "stream",
     "text": [
      "  0%|          | 0/10 [00:00<?, ?it/s]c:\\Users\\Marlous\\anaconda3\\envs\\asr\\lib\\site-packages\\pyloudnorm\\normalize.py:31: UserWarning: Possible clipped samples in output.\n",
      "  warnings.warn(\"Possible clipped samples in output.\")\n",
      "100%|██████████| 10/10 [00:04<00:00,  2.32it/s]\n"
     ]
    },
    {
     "name": "stdout",
     "output_type": "stream",
     "text": [
      "Processing valid set\n"
     ]
    },
    {
     "name": "stderr",
     "output_type": "stream",
     "text": [
      "100%|██████████| 10/10 [00:02<00:00,  3.63it/s]\n"
     ]
    },
    {
     "name": "stdout",
     "output_type": "stream",
     "text": [
      "Processing test set\n"
     ]
    },
    {
     "name": "stderr",
     "output_type": "stream",
     "text": [
      "100%|██████████| 10/10 [00:02<00:00,  3.67it/s]\n"
     ]
    }
   ],
   "source": [
    "if create_dataset:\n",
    "    for i, dataset in enumerate(datasets):\n",
    "        print(f\"Processing {dataset} set\")\n",
    "\n",
    "        input_dir = os.path.join(PROCESSED_DIR, f\"{dataset}/\")\n",
    "        output_dir = os.path.join(DATASET_DIR, f\"{dataset}/\")\n",
    "\n",
    "        if not os.path.exists(output_dir):\n",
    "            os.makedirs(output_dir)\n",
    "            \n",
    "        make_dataset(input_dir, output_dir, max_k, samples[i])\n"
   ]
  },
  {
   "cell_type": "markdown",
   "metadata": {},
   "source": [
    "## Add Noise for k = 0"
   ]
  },
  {
   "cell_type": "code",
   "execution_count": 6,
   "metadata": {},
   "outputs": [
    {
     "name": "stdout",
     "output_type": "stream",
     "text": [
      "Processing train set\n"
     ]
    },
    {
     "name": "stderr",
     "output_type": "stream",
     "text": [
      "0it [00:00, ?it/s]c:\\Users\\Marlous\\anaconda3\\envs\\asr\\lib\\site-packages\\pyloudnorm\\normalize.py:31: UserWarning: Possible clipped samples in output.\n",
      "  warnings.warn(\"Possible clipped samples in output.\")\n",
      "25it [00:15,  1.64it/s]\n"
     ]
    },
    {
     "name": "stdout",
     "output_type": "stream",
     "text": [
      "Processing valid set\n"
     ]
    },
    {
     "name": "stderr",
     "output_type": "stream",
     "text": [
      "10it [00:04,  2.01it/s]\n"
     ]
    },
    {
     "name": "stdout",
     "output_type": "stream",
     "text": [
      "Processing test set\n"
     ]
    },
    {
     "name": "stderr",
     "output_type": "stream",
     "text": [
      "10it [00:04,  2.16it/s]\n"
     ]
    }
   ],
   "source": [
    "if create_dataset:\n",
    "    noise_files = get_files(os.path.join(DATA_DIR, NOISE_DIR, \"audio/\"), \".wav\")\n",
    "\n",
    "    speech_categories = [\"cafe/restaurant\", \"grocery_store\", \"metro_station\"]\n",
    "    noise_files = remove_speech_noise(noise_files, os.path.join(DATA_DIR, NOISE_DIR, \"meta.txt\"), speech_categories)\n",
    "\n",
    "    for i, n_samples in enumerate(samples):\n",
    "        print(f\"Processing {datasets[i]} set\")\n",
    "        \n",
    "        # Select same number of noise samples as \n",
    "        # k speaker samples in each dataset\n",
    "        noise_samples = random.sample(noise_files, n_samples)\n",
    "\n",
    "        # Remove used samples\n",
    "        [noise_files.remove(n) for n in noise_samples]\n",
    "\n",
    "        # Downsample and save noise in dataset directories\n",
    "        process_noise(DATASET_DIR, datasets[i], noise_samples, sample_rate)\n"
   ]
  },
  {
   "cell_type": "markdown",
   "metadata": {},
   "source": [
    "## Compute Train Set Mean and Standard Deviation"
   ]
  },
  {
   "cell_type": "code",
   "execution_count": 7,
   "metadata": {},
   "outputs": [
    {
     "name": "stderr",
     "output_type": "stream",
     "text": [
      "100%|██████████| 275/275 [00:34<00:00,  7.90it/s]\n"
     ]
    },
    {
     "name": "stdout",
     "output_type": "stream",
     "text": [
      "Dataset mean: 0.0007686347817070782\n",
      "Dataset std: 0.002093877410516143\n"
     ]
    }
   ],
   "source": [
    "mean, std = get_train_mean_std(os.path.join(DATASET_DIR, \"train/\"))\n",
    "print(f\"Dataset mean: {mean}\")\n",
    "print(f\"Dataset std: {std}\")"
   ]
  },
  {
   "cell_type": "markdown",
   "metadata": {},
   "source": [
    "## Train"
   ]
  },
  {
   "cell_type": "markdown",
   "metadata": {},
   "source": [
    "### Data Generators"
   ]
  },
  {
   "cell_type": "code",
   "execution_count": 8,
   "metadata": {},
   "outputs": [],
   "source": [
    "train_files = [f for f in os.listdir(os.path.join(DATASET_DIR, \"train/\")) if f.endswith(\".wav\")]\n",
    "valid_files = [f for f in os.listdir(os.path.join(DATASET_DIR, \"valid/\")) if f.endswith(\".wav\")]"
   ]
  },
  {
   "cell_type": "code",
   "execution_count": 9,
   "metadata": {},
   "outputs": [],
   "source": [
    "train_generator = CustomDataGenerator(os.path.join(DATASET_DIR, \"train/\"), \n",
    "                                    train_files, dim=(500, 201), \n",
    "                                    max_k=max_k, batch_size=32, \n",
    "                                    mean=mean, std=std, \n",
    "                                    s=s, shuffle=True)\n",
    "\n",
    "valid_generator = CustomDataGenerator(os.path.join(DATASET_DIR, \"valid/\"), \n",
    "                                    valid_files, dim=(500, 201), \n",
    "                                    max_k=max_k, batch_size=1, \n",
    "                                    mean=mean, std=std, \n",
    "                                    s=s, shuffle=False)"
   ]
  },
  {
   "cell_type": "markdown",
   "metadata": {},
   "source": [
    "### Model"
   ]
  },
  {
   "cell_type": "code",
   "execution_count": 10,
   "metadata": {},
   "outputs": [
    {
     "name": "stdout",
     "output_type": "stream",
     "text": [
      "Model: \"sequential\"\n",
      "_________________________________________________________________\n",
      " Layer (type)                Output Shape              Param #   \n",
      "=================================================================\n",
      " conv2d (Conv2D)             (None, 498, 199, 64)      640       \n",
      "                                                                 \n",
      " conv2d_1 (Conv2D)           (None, 496, 197, 32)      18464     \n",
      "                                                                 \n",
      " max_pooling2d (MaxPooling2D  (None, 165, 65, 32)      0         \n",
      " )                                                               \n",
      "                                                                 \n",
      " conv2d_2 (Conv2D)           (None, 163, 63, 128)      36992     \n",
      "                                                                 \n",
      " conv2d_3 (Conv2D)           (None, 161, 61, 64)       73792     \n",
      "                                                                 \n",
      " max_pooling2d_1 (MaxPooling  (None, 53, 20, 64)       0         \n",
      " 2D)                                                             \n",
      "                                                                 \n",
      " dropout (Dropout)           (None, 53, 20, 64)        0         \n",
      "                                                                 \n",
      " reshape (Reshape)           (None, 53, 1280)          0         \n",
      "                                                                 \n",
      " lstm (LSTM)                 (None, 53, 40)            211360    \n",
      "                                                                 \n",
      " max_pooling1d (MaxPooling1D  (None, 26, 40)           0         \n",
      " )                                                               \n",
      "                                                                 \n",
      " flatten (Flatten)           (None, 1040)              0         \n",
      "                                                                 \n",
      " dense (Dense)               (None, 11)                11451     \n",
      "                                                                 \n",
      " softmax (Softmax)           (None, 11)                0         \n",
      "                                                                 \n",
      "=================================================================\n",
      "Total params: 352,699\n",
      "Trainable params: 352,699\n",
      "Non-trainable params: 0\n",
      "_________________________________________________________________\n"
     ]
    }
   ],
   "source": [
    "model = CRNN((500, 201, 1), max_k)\n",
    "model.summary()"
   ]
  },
  {
   "cell_type": "markdown",
   "metadata": {},
   "source": [
    "### Compile"
   ]
  },
  {
   "cell_type": "code",
   "execution_count": 11,
   "metadata": {},
   "outputs": [],
   "source": [
    "model.compile(\n",
    "    optimizer=tf.keras.optimizers.Adam(learning_rate=1e-3, beta_1=0.9, beta_2=0.999, epsilon=1e-8),\n",
    "    loss=tf.keras.losses.CategoricalCrossentropy(),\n",
    "    metrics=tf.keras.metrics.CategoricalAccuracy(),\n",
    ")"
   ]
  },
  {
   "cell_type": "markdown",
   "metadata": {},
   "source": [
    "### Train"
   ]
  },
  {
   "cell_type": "code",
   "execution_count": 12,
   "metadata": {},
   "outputs": [
    {
     "name": "stdout",
     "output_type": "stream",
     "text": [
      "Epoch 1/10\n",
      "8/8 [==============================] - 101s 13s/step - loss: 2.7187 - categorical_accuracy: 0.0156 - val_loss: 2.3972 - val_categorical_accuracy: 0.1818\n",
      "Epoch 2/10\n",
      "8/8 [==============================] - 102s 13s/step - loss: 2.3957 - categorical_accuracy: 0.1094 - val_loss: 2.3952 - val_categorical_accuracy: 0.0909\n",
      "Epoch 3/10\n",
      "8/8 [==============================] - 107s 13s/step - loss: 2.3909 - categorical_accuracy: 0.0938 - val_loss: 2.3838 - val_categorical_accuracy: 0.1000\n",
      "Epoch 4/10\n",
      "8/8 [==============================] - 114s 14s/step - loss: 2.3748 - categorical_accuracy: 0.1172 - val_loss: 2.3507 - val_categorical_accuracy: 0.1727\n",
      "Epoch 5/10\n",
      "8/8 [==============================] - 102s 12s/step - loss: 2.3238 - categorical_accuracy: 0.1875 - val_loss: 2.2573 - val_categorical_accuracy: 0.2091\n",
      "Epoch 6/10\n",
      "8/8 [==============================] - 104s 13s/step - loss: 2.1868 - categorical_accuracy: 0.1875 - val_loss: 2.0211 - val_categorical_accuracy: 0.3091\n",
      "Epoch 7/10\n",
      "8/8 [==============================] - 100s 12s/step - loss: 1.9467 - categorical_accuracy: 0.2695 - val_loss: 1.7683 - val_categorical_accuracy: 0.3182\n",
      "Epoch 8/10\n",
      "8/8 [==============================] - 99s 12s/step - loss: 1.7373 - categorical_accuracy: 0.3047 - val_loss: 1.5839 - val_categorical_accuracy: 0.3545\n",
      "Epoch 9/10\n",
      "8/8 [==============================] - 98s 12s/step - loss: 1.5532 - categorical_accuracy: 0.3984 - val_loss: 1.5869 - val_categorical_accuracy: 0.4091\n",
      "Epoch 10/10\n",
      "8/8 [==============================] - 98s 12s/step - loss: 1.4595 - categorical_accuracy: 0.4062 - val_loss: 1.5385 - val_categorical_accuracy: 0.3545\n"
     ]
    },
    {
     "data": {
      "text/plain": [
       "<keras.callbacks.History at 0x1a8156e4400>"
      ]
     },
     "execution_count": 12,
     "metadata": {},
     "output_type": "execute_result"
    }
   ],
   "source": [
    "model.fit(train_generator, validation_data=valid_generator, epochs=10)"
   ]
  },
  {
   "cell_type": "code",
   "execution_count": null,
   "metadata": {},
   "outputs": [],
   "source": []
  }
 ],
 "metadata": {
  "interpreter": {
   "hash": "74909c2fc6c5882a3624724f8dc942435399229dca3d992dbbdf50c0cef614e7"
  },
  "kernelspec": {
   "display_name": "Python 3.9.11 ('asr')",
   "language": "python",
   "name": "python3"
  },
  "language_info": {
   "codemirror_mode": {
    "name": "ipython",
    "version": 3
   },
   "file_extension": ".py",
   "mimetype": "text/x-python",
   "name": "python",
   "nbconvert_exporter": "python",
   "pygments_lexer": "ipython3",
   "version": "3.9.11"
  },
  "orig_nbformat": 4
 },
 "nbformat": 4,
 "nbformat_minor": 2
}
