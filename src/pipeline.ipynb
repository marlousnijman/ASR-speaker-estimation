{
 "cells": [
  {
   "cell_type": "markdown",
   "metadata": {},
   "source": [
    "# Pipeline"
   ]
  },
  {
   "cell_type": "markdown",
   "metadata": {},
   "source": [
    "## Imports"
   ]
  },
  {
   "cell_type": "code",
   "execution_count": 1,
   "metadata": {},
   "outputs": [],
   "source": [
    "import os\n",
    "import tensorflow as tf\n",
    "import random\n",
    "import wandb\n",
    "from wandb.keras import WandbCallback\n",
    "from sklearn.metrics import confusion_matrix, mean_absolute_error\n",
    "import seaborn as sn\n",
    "import matplotlib.pyplot as plt\n",
    "import json\n",
    "\n",
    "from preprocessing import preprocess\n",
    "from dataset import make_dataset\n",
    "from scaling import get_train_mean_std\n",
    "from model import CRNN\n",
    "from util import *"
   ]
  },
  {
   "cell_type": "markdown",
   "metadata": {},
   "source": [
    "## Paths"
   ]
  },
  {
   "cell_type": "code",
   "execution_count": 2,
   "metadata": {},
   "outputs": [],
   "source": [
    "DATA_DIR = \"../../data/\"\n",
    "TRAIN_DIR = \"train-clean-360/LibriSpeech/train-clean-360/\"\n",
    "VALID_DIR = \"dev-clean/LibriSpeech/dev-clean/\"\n",
    "TEST_DIR = \"test-clean/LibriSpeech/test-clean/\"\n",
    "NOISE_DIR = \"noise/\"\n",
    "MODEL_DIR = \"../models/\"\n",
    "IMAGE_DIR = \"../images/\"\n",
    "\n",
    "PROCESSED_DIR = os.path.join(DATA_DIR, \"processed/\")\n",
    "DATASET_DIR = os.path.join(DATA_DIR, \"dataset/\")\n",
    "BEST_MODEL = os.path.join(MODEL_DIR, \"best_weights.h5\")\n",
    "SCALING_FILE = os.path.join(DATA_DIR, \"scaling_parameters.json\")"
   ]
  },
  {
   "cell_type": "markdown",
   "metadata": {},
   "source": [
    "## Parameters"
   ]
  },
  {
   "cell_type": "markdown",
   "metadata": {},
   "source": [
    "#### Dataset Paraameters"
   ]
  },
  {
   "cell_type": "code",
   "execution_count": 3,
   "metadata": {},
   "outputs": [],
   "source": [
    "initial_s = 10\n",
    "s = 5\n",
    "max_k = 10\n",
    "sample_rate = 16000\n",
    "preprocessing = False\n",
    "create_dataset = False\n",
    "train = False\n",
    "test = True\n",
    "samples = [1820, 520, 520]\n",
    "datasets = [\"train\", \"valid\", \"test\"]"
   ]
  },
  {
   "cell_type": "markdown",
   "metadata": {},
   "source": [
    "#### Training Parameters"
   ]
  },
  {
   "cell_type": "code",
   "execution_count": 4,
   "metadata": {},
   "outputs": [],
   "source": [
    "lr = 1e-3\n",
    "epochs = 1\n",
    "batch_size = 32"
   ]
  },
  {
   "cell_type": "markdown",
   "metadata": {},
   "source": [
    "## Model Directory"
   ]
  },
  {
   "cell_type": "code",
   "execution_count": 5,
   "metadata": {},
   "outputs": [],
   "source": [
    "if not os.path.exists(MODEL_DIR):\n",
    "    os.makedirs(MODEL_DIR)"
   ]
  },
  {
   "cell_type": "markdown",
   "metadata": {},
   "source": [
    "## Weights & Biases"
   ]
  },
  {
   "cell_type": "code",
   "execution_count": 6,
   "metadata": {},
   "outputs": [],
   "source": [
    "if train:\n",
    "  wandb.init(project=\"test-project\", entity=\"speaker-estimation\")\n",
    "  wandb.config = {\n",
    "    \"learning_rate\": lr,\n",
    "    \"epochs\": epochs,\n",
    "    \"batch_size\": batch_size\n",
    "  }"
   ]
  },
  {
   "cell_type": "markdown",
   "metadata": {},
   "source": [
    "## Preprocessing"
   ]
  },
  {
   "cell_type": "code",
   "execution_count": 7,
   "metadata": {},
   "outputs": [],
   "source": [
    "if preprocessing:\n",
    "    input_dirs = [TRAIN_DIR, VALID_DIR, TEST_DIR]\n",
    "\n",
    "    for i, dataset in enumerate(datasets):\n",
    "        print(f\"Processing {dataset} set\")\n",
    "\n",
    "        input_dir = os.path.join(DATA_DIR, input_dirs[i])\n",
    "        output_dir = os.path.join(PROCESSED_DIR, f\"{dataset}/\")\n",
    "\n",
    "        if not os.path.exists(output_dir):\n",
    "            os.makedirs(output_dir)\n",
    "            \n",
    "        preprocess(input_dir, output_dir, initial_s)"
   ]
  },
  {
   "cell_type": "markdown",
   "metadata": {},
   "source": [
    "## Creating Dataset"
   ]
  },
  {
   "cell_type": "code",
   "execution_count": 8,
   "metadata": {},
   "outputs": [],
   "source": [
    "if create_dataset:\n",
    "    for i, dataset in enumerate(datasets):\n",
    "        train = True\n",
    "\n",
    "        print(f\"Processing {dataset} set\")\n",
    "\n",
    "        input_dir = os.path.join(PROCESSED_DIR, f\"{dataset}/\")\n",
    "        output_dir = os.path.join(DATASET_DIR, f\"{dataset}/\")\n",
    "\n",
    "        if not os.path.exists(output_dir):\n",
    "            os.makedirs(output_dir)\n",
    "            \n",
    "        if dataset != \"train\":\n",
    "            train = False\n",
    "            \n",
    "        make_dataset(input_dir, output_dir, max_k, samples[i], train)\n"
   ]
  },
  {
   "cell_type": "markdown",
   "metadata": {},
   "source": [
    "## Add Noise for k = 0"
   ]
  },
  {
   "cell_type": "code",
   "execution_count": 9,
   "metadata": {},
   "outputs": [],
   "source": [
    "if create_dataset:\n",
    "    noise_files = get_files(os.path.join(DATA_DIR, NOISE_DIR, \"audio/\"), \".wav\")\n",
    "\n",
    "    speech_categories = [\"cafe/restaurant\", \"grocery_store\", \"metro_station\"]\n",
    "    noise_files = remove_speech_noise(noise_files, os.path.join(DATA_DIR, NOISE_DIR, \"meta.txt\"), speech_categories)\n",
    "\n",
    "    for i, n_samples in enumerate(samples):\n",
    "        print(f\"Processing {datasets[i]} set\")\n",
    "        \n",
    "        # Select same number of noise samples as \n",
    "        # k speaker samples in each dataset\n",
    "        noise_samples = random.sample(noise_files, n_samples)\n",
    "\n",
    "        # Remove used samples\n",
    "        [noise_files.remove(n) for n in noise_samples]\n",
    "\n",
    "        # Downsample and save noise in dataset directories\n",
    "        process_noise(DATASET_DIR, datasets[i], noise_samples, sample_rate)\n"
   ]
  },
  {
   "cell_type": "markdown",
   "metadata": {},
   "source": [
    "## Compute Train Set Mean and Standard Deviation"
   ]
  },
  {
   "cell_type": "code",
   "execution_count": 10,
   "metadata": {},
   "outputs": [],
   "source": [
    "if train:\n",
    "    mean, std = get_train_mean_std(os.path.join(DATASET_DIR, \"train/\"))\n",
    "\n",
    "    scaling_parameters = {\"mean\": float(mean),\n",
    "                          \"std\": float(std)}\n",
    "\n",
    "    with open(SCALING_FILE, 'w') as f:\n",
    "        json.dump(scaling_parameters, f)"
   ]
  },
  {
   "cell_type": "code",
   "execution_count": 11,
   "metadata": {},
   "outputs": [],
   "source": [
    "if test:\n",
    "    with open(SCALING_FILE, 'r') as f:\n",
    "        scaling_parameters = json.load(f)\n",
    "\n",
    "    mean = scaling_parameters[\"mean\"]\n",
    "    std = scaling_parameters[\"std\"]"
   ]
  },
  {
   "cell_type": "code",
   "execution_count": 12,
   "metadata": {},
   "outputs": [
    {
     "name": "stdout",
     "output_type": "stream",
     "text": [
      "Dataset mean: 0.0007900168420746922\n",
      "Dataset std: 0.002085912274196744\n"
     ]
    }
   ],
   "source": [
    "print(f\"Dataset mean: {mean}\")\n",
    "print(f\"Dataset std: {std}\")"
   ]
  },
  {
   "cell_type": "markdown",
   "metadata": {},
   "source": [
    "## Train"
   ]
  },
  {
   "cell_type": "markdown",
   "metadata": {},
   "source": [
    "### Data Generators"
   ]
  },
  {
   "cell_type": "code",
   "execution_count": 13,
   "metadata": {},
   "outputs": [],
   "source": [
    "if train:\n",
    "    train_files = [f for f in os.listdir(os.path.join(DATASET_DIR, \"train/\")) if f.endswith(\".wav\")]\n",
    "    valid_files = [f for f in os.listdir(os.path.join(DATASET_DIR, \"valid/\")) if f.endswith(\".wav\")]"
   ]
  },
  {
   "cell_type": "code",
   "execution_count": 14,
   "metadata": {},
   "outputs": [],
   "source": [
    "if train:\n",
    "    train_generator = CustomDataGenerator(os.path.join(DATASET_DIR, \"train/\"), \n",
    "                                        train_files, dim=(500, 201), \n",
    "                                        max_k=max_k, batch_size=batch_size, \n",
    "                                        mean=mean, std=std, \n",
    "                                        s=s, train=True, shuffle=True)\n",
    "\n",
    "    valid_generator = CustomDataGenerator(os.path.join(DATASET_DIR, \"valid/\"), \n",
    "                                    valid_files, dim=(500, 201), \n",
    "                                    max_k=max_k, batch_size=1, \n",
    "                                    mean=mean, std=std, \n",
    "                                    s=s, train=False, shuffle=False)"
   ]
  },
  {
   "cell_type": "markdown",
   "metadata": {},
   "source": [
    "### Model"
   ]
  },
  {
   "cell_type": "code",
   "execution_count": 15,
   "metadata": {},
   "outputs": [
    {
     "name": "stdout",
     "output_type": "stream",
     "text": [
      "Model: \"sequential\"\n",
      "_________________________________________________________________\n",
      " Layer (type)                Output Shape              Param #   \n",
      "=================================================================\n",
      " conv2d (Conv2D)             (None, 498, 199, 64)      640       \n",
      "                                                                 \n",
      " conv2d_1 (Conv2D)           (None, 496, 197, 32)      18464     \n",
      "                                                                 \n",
      " max_pooling2d (MaxPooling2D  (None, 165, 65, 32)      0         \n",
      " )                                                               \n",
      "                                                                 \n",
      " conv2d_2 (Conv2D)           (None, 163, 63, 128)      36992     \n",
      "                                                                 \n",
      " conv2d_3 (Conv2D)           (None, 161, 61, 64)       73792     \n",
      "                                                                 \n",
      " max_pooling2d_1 (MaxPooling  (None, 53, 20, 64)       0         \n",
      " 2D)                                                             \n",
      "                                                                 \n",
      " dropout (Dropout)           (None, 53, 20, 64)        0         \n",
      "                                                                 \n",
      " reshape (Reshape)           (None, 53, 1280)          0         \n",
      "                                                                 \n",
      " lstm (LSTM)                 (None, 53, 40)            211360    \n",
      "                                                                 \n",
      " max_pooling1d (MaxPooling1D  (None, 26, 40)           0         \n",
      " )                                                               \n",
      "                                                                 \n",
      " flatten (Flatten)           (None, 1040)              0         \n",
      "                                                                 \n",
      " dense (Dense)               (None, 11)                11451     \n",
      "                                                                 \n",
      " softmax (Softmax)           (None, 11)                0         \n",
      "                                                                 \n",
      "=================================================================\n",
      "Total params: 352,699\n",
      "Trainable params: 352,699\n",
      "Non-trainable params: 0\n",
      "_________________________________________________________________\n"
     ]
    }
   ],
   "source": [
    "model = CRNN((500, 201, 1), max_k)\n",
    "model.summary()"
   ]
  },
  {
   "cell_type": "markdown",
   "metadata": {},
   "source": [
    "### Compile"
   ]
  },
  {
   "cell_type": "code",
   "execution_count": 16,
   "metadata": {},
   "outputs": [],
   "source": [
    "if train:\n",
    "    model.compile(\n",
    "        optimizer=tf.keras.optimizers.Adam(learning_rate=lr, beta_1=0.9, beta_2=0.999, epsilon=1e-8),\n",
    "        loss=tf.keras.losses.CategoricalCrossentropy(),\n",
    "        metrics=tf.keras.metrics.CategoricalAccuracy(),\n",
    "    )"
   ]
  },
  {
   "cell_type": "markdown",
   "metadata": {},
   "source": [
    "### Callbacks"
   ]
  },
  {
   "cell_type": "code",
   "execution_count": 17,
   "metadata": {},
   "outputs": [],
   "source": [
    "if train:\n",
    "    checkpoint = tf.keras.callbacks.ModelCheckpoint(\n",
    "        filepath=os.path.join(MODEL_DIR, 'weights.{epoch:02d}-{val_loss:.2f}.h5',),\n",
    "        save_weights_only=True,\n",
    "        monitor='val_categorical_accuracy',\n",
    "        mode='max',\n",
    "        save_best_only=True)\n",
    "\n",
    "    early_stopping = tf.keras.callbacks.EarlyStopping(\n",
    "        monitor=\"val_loss\",\n",
    "        patience=10,\n",
    "    )\n",
    "\n",
    "    wandb_callback = WandbCallback(save_model=False)"
   ]
  },
  {
   "cell_type": "markdown",
   "metadata": {},
   "source": [
    "### Train"
   ]
  },
  {
   "cell_type": "code",
   "execution_count": 18,
   "metadata": {},
   "outputs": [],
   "source": [
    "if train:\n",
    "    model.fit(train_generator, validation_data=valid_generator, epochs=epochs, callbacks=[checkpoint, early_stopping, wandb_callback])\n",
    "    model.save_weights(os.path.join(MODEL_DIR, 'final_weights.h5'))"
   ]
  },
  {
   "cell_type": "markdown",
   "metadata": {},
   "source": [
    "## Test"
   ]
  },
  {
   "cell_type": "markdown",
   "metadata": {},
   "source": [
    "### Data Generator"
   ]
  },
  {
   "cell_type": "code",
   "execution_count": 19,
   "metadata": {},
   "outputs": [],
   "source": [
    "if test:\n",
    "    test_files = [f for f in os.listdir(os.path.join(DATASET_DIR, \"test/\")) if f.endswith(\".wav\")]"
   ]
  },
  {
   "cell_type": "code",
   "execution_count": 20,
   "metadata": {},
   "outputs": [],
   "source": [
    "if test:\n",
    "    test_generator = CustomDataGenerator(os.path.join(DATASET_DIR, \"test/\"), \n",
    "                                    test_files, dim=(500, 201), \n",
    "                                    max_k=max_k, batch_size=1, \n",
    "                                    mean=mean, std=std, \n",
    "                                    s=s, train=False, shuffle=False)"
   ]
  },
  {
   "cell_type": "markdown",
   "metadata": {},
   "source": [
    "### Get Predictions & Labels"
   ]
  },
  {
   "cell_type": "code",
   "execution_count": 21,
   "metadata": {},
   "outputs": [],
   "source": [
    "if test:\n",
    "    model.load_weights(os.path.join(MODEL_DIR, BEST_MODEL))\n",
    "    predictions = model.predict(test_generator)\n",
    "    labels = test_generator.get_classes()\n",
    "    pred = np.argmax(predictions, axis=1)\n",
    "    true = np.argmax(labels, axis=1)"
   ]
  },
  {
   "cell_type": "markdown",
   "metadata": {},
   "source": [
    "## Analysis"
   ]
  },
  {
   "cell_type": "markdown",
   "metadata": {},
   "source": [
    "### Image Direcotry"
   ]
  },
  {
   "cell_type": "code",
   "execution_count": 22,
   "metadata": {},
   "outputs": [],
   "source": [
    "if not os.path.exists(IMAGE_DIR):\n",
    "    os.makedirs(IMAGE_DIR)"
   ]
  },
  {
   "cell_type": "markdown",
   "metadata": {},
   "source": [
    "### Confusion Matrix"
   ]
  },
  {
   "cell_type": "code",
   "execution_count": 23,
   "metadata": {},
   "outputs": [
    {
     "name": "stdout",
     "output_type": "stream",
     "text": [
      "[[0 0 0 0 0 0 0 0 0 0 0]\n",
      " [1 9 1 0 0 0 0 0 0 0 0]\n",
      " [0 0 8 2 3 0 0 0 0 0 0]\n",
      " [0 0 0 1 3 7 1 0 0 0 0]\n",
      " [0 0 0 0 0 2 7 1 2 0 0]]\n"
     ]
    },
    {
     "data": {
      "image/png": "[encoded data removed]",
      "text/plain": [
       "<Figure size 432x288 with 2 Axes>"
      ]
     },
     "metadata": {
      "needs_background": "light"
     },
     "output_type": "display_data"
    }
   ],
   "source": [
    "if test:\n",
    "    cm = confusion_matrix(true, pred, labels=np.arange(max_k+1))\n",
    "    print(cm[:5])\n",
    "    sn.heatmap(cm, annot=True, fmt=\"g\", cmap=\"Blues\")\n",
    "    plt.ylabel(\"True\")\n",
    "    plt.xlabel(\"Predicted\")\n",
    "    plt.savefig(os.path.join(IMAGE_DIR, \"confusion_matrix.png\"))\n",
    "    plt.show()"
   ]
  },
  {
   "cell_type": "markdown",
   "metadata": {},
   "source": [
    "## Mean Absolute Error"
   ]
  },
  {
   "cell_type": "code",
   "execution_count": 29,
   "metadata": {},
   "outputs": [],
   "source": [
    "if test:\n",
    "    mae_scores = []\n",
    "    for i in range(1,5+1):\n",
    "        mae = mean_absolute_error(true[true == i], pred[true == i])\n",
    "        mae_scores.append(mae)"
   ]
  },
  {
   "cell_type": "code",
   "execution_count": 34,
   "metadata": {},
   "outputs": [
    {
     "data": {
      "image/png": "[encoded data removed]",
      "text/plain": [
       "<Figure size 432x288 with 1 Axes>"
      ]
     },
     "metadata": {
      "needs_background": "light"
     },
     "output_type": "display_data"
    }
   ],
   "source": [
    "if test:\n",
    "    plt.plot(np.arange(1,5+1), mae_scores)\n",
    "    plt.xlabel(\"Number of Speakers\")\n",
    "    plt.ylabel(\"MAE\")\n",
    "    plt.xticks(np.arange(1,6))\n",
    "    plt.savefig(os.path.join(IMAGE_DIR, \"mae.png\"))\n",
    "    plt.show()"
   ]
  },
  {
   "cell_type": "code",
   "execution_count": null,
   "metadata": {},
   "outputs": [],
   "source": []
  }
 ],
 "metadata": {
  "interpreter": {
   "hash": "74909c2fc6c5882a3624724f8dc942435399229dca3d992dbbdf50c0cef614e7"
  },
  "kernelspec": {
   "display_name": "Python 3.9.11 ('asr')",
   "language": "python",
   "name": "python3"
  },
  "language_info": {
   "codemirror_mode": {
    "name": "ipython",
    "version": 3
   },
   "file_extension": ".py",
   "mimetype": "text/x-python",
   "name": "python",
   "nbconvert_exporter": "python",
   "pygments_lexer": "ipython3",
   "version": "3.9.11"
  },
  "orig_nbformat": 4
 },
 "nbformat": 4,
 "nbformat_minor": 2
}
