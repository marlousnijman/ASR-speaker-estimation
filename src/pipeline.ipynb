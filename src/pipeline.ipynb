{
 "cells": [
  {
   "cell_type": "markdown",
   "metadata": {},
   "source": [
    "# Pipeline"
   ]
  },
  {
   "cell_type": "markdown",
   "metadata": {},
   "source": [
    "## Imports"
   ]
  },
  {
   "cell_type": "code",
   "execution_count": 1,
   "metadata": {},
   "outputs": [],
   "source": [
    "import os\n",
    "import tensorflow as tf\n",
    "\n",
    "from preprocessing import preprocess\n",
    "from dataset import make_dataset\n",
    "from model import CRNN\n",
    "from util import *\n",
    "import random\n",
    "from datetime import datetime\n",
    "import wandb\n",
    "from wandb.keras import WandbCallback"
   ]
  },
  {
   "cell_type": "markdown",
   "metadata": {},
   "source": [
    "## Paths"
   ]
  },
  {
   "cell_type": "code",
   "execution_count": 2,
   "metadata": {},
   "outputs": [],
   "source": [
    "DATA_DIR = \"../../data/\"\n",
    "TRAIN_DIR = \"train-clean-360/LibriSpeech/train-clean-360/\"\n",
    "VALID_DIR = \"dev-clean/LibriSpeech/dev-clean/\"\n",
    "TEST_DIR = \"test-clean/LibriSpeech/test-clean/\"\n",
    "NOISE_DIR = \"noise/\"\n",
    "\n",
    "PROCESSED_DIR = os.path.join(DATA_DIR, \"processed/\")\n",
    "DATASET_DIR = os.path.join(DATA_DIR, \"dataset/\")\n",
    "MODEL_DIR = \"../models/\""
   ]
  },
  {
   "cell_type": "markdown",
   "metadata": {},
   "source": [
    "## Parameters"
   ]
  },
  {
   "cell_type": "markdown",
   "metadata": {},
   "source": [
    "#### Dataset Paraameters"
   ]
  },
  {
   "cell_type": "code",
   "execution_count": 3,
   "metadata": {},
   "outputs": [],
   "source": [
    "initial_s = 10\n",
    "s = 5\n",
    "max_k = 10\n",
    "sample_rate = 16000\n",
    "preprocessing = False\n",
    "create_dataset = False\n",
    "samples = [25, 10, 10] # [1820, 520, 520]\n",
    "datasets = [\"train\", \"valid\", \"test\"]"
   ]
  },
  {
   "cell_type": "markdown",
   "metadata": {},
   "source": [
    "#### Training Parameters"
   ]
  },
  {
   "cell_type": "code",
   "execution_count": 4,
   "metadata": {},
   "outputs": [],
   "source": [
    "lr = 1e-3\n",
    "epochs = 10\n",
    "batch_size = 32"
   ]
  },
  {
   "cell_type": "markdown",
   "metadata": {},
   "source": [
    "## Weights & Biases"
   ]
  },
  {
   "cell_type": "code",
   "execution_count": 5,
   "metadata": {},
   "outputs": [
    {
     "name": "stderr",
     "output_type": "stream",
     "text": [
      "Failed to detect the name of this notebook, you can set it manually with the WANDB_NOTEBOOK_NAME environment variable to enable code saving.\n",
      "\u001b[34m\u001b[1mwandb\u001b[0m: Currently logged in as: \u001b[33mmarlousnijman\u001b[0m (\u001b[33mspeaker-estimation\u001b[0m). Use \u001b[1m`wandb login --relogin`\u001b[0m to force relogin\n"
     ]
    },
    {
     "data": {
      "text/html": [
       "Tracking run with wandb version 0.12.16"
      ],
      "text/plain": [
       "<IPython.core.display.HTML object>"
      ]
     },
     "metadata": {},
     "output_type": "display_data"
    },
    {
     "data": {
      "text/html": [
       "Run data is saved locally in <code>c:\\Users\\Marlous\\Documents\\Uni\\Automatic_Speech_Recognition\\ASR-speaker-estimation\\src\\wandb\\run-20220522_112346-1j6yokq7</code>"
      ],
      "text/plain": [
       "<IPython.core.display.HTML object>"
      ]
     },
     "metadata": {},
     "output_type": "display_data"
    },
    {
     "data": {
      "text/html": [
       "Syncing run <strong><a href=\"https://wandb.ai/speaker-estimation/test-project/runs/1j6yokq7\" target=\"_blank\">earnest-violet-3</a></strong> to <a href=\"https://wandb.ai/speaker-estimation/test-project\" target=\"_blank\">Weights & Biases</a> (<a href=\"https://wandb.me/run\" target=\"_blank\">docs</a>)<br/>"
      ],
      "text/plain": [
       "<IPython.core.display.HTML object>"
      ]
     },
     "metadata": {},
     "output_type": "display_data"
    }
   ],
   "source": [
    "wandb.init(project=\"test-project\", entity=\"speaker-estimation\")\n",
    "wandb.config = {\n",
    "  \"learning_rate\": lr,\n",
    "  \"epochs\": epochs,\n",
    "  \"batch_size\": batch_size\n",
    "}"
   ]
  },
  {
   "cell_type": "markdown",
   "metadata": {},
   "source": [
    "## Preprocessing"
   ]
  },
  {
   "cell_type": "code",
   "execution_count": 6,
   "metadata": {},
   "outputs": [],
   "source": [
    "if preprocessing:\n",
    "    input_dirs = [TRAIN_DIR, VALID_DIR, TEST_DIR]\n",
    "\n",
    "    for i, dataset in enumerate(datasets):\n",
    "        print(f\"Processing {dataset} set\")\n",
    "\n",
    "        input_dir = os.path.join(DATA_DIR, input_dirs[i])\n",
    "        output_dir = os.path.join(PROCESSED_DIR, f\"{dataset}/\")\n",
    "\n",
    "        if not os.path.exists(output_dir):\n",
    "            os.makedirs(output_dir)\n",
    "            \n",
    "        preprocess(input_dir, output_dir, initial_s)"
   ]
  },
  {
   "cell_type": "markdown",
   "metadata": {},
   "source": [
    "## Creating Dataset"
   ]
  },
  {
   "cell_type": "code",
   "execution_count": 7,
   "metadata": {},
   "outputs": [],
   "source": [
    "if create_dataset:\n",
    "    for i, dataset in enumerate(datasets):\n",
    "        print(f\"Processing {dataset} set\")\n",
    "\n",
    "        input_dir = os.path.join(PROCESSED_DIR, f\"{dataset}/\")\n",
    "        output_dir = os.path.join(DATASET_DIR, f\"{dataset}/\")\n",
    "\n",
    "        if not os.path.exists(output_dir):\n",
    "            os.makedirs(output_dir)\n",
    "            \n",
    "        make_dataset(input_dir, output_dir, max_k, samples[i])\n"
   ]
  },
  {
   "cell_type": "markdown",
   "metadata": {},
   "source": [
    "## Add Noise for k = 0"
   ]
  },
  {
   "cell_type": "code",
   "execution_count": 8,
   "metadata": {},
   "outputs": [],
   "source": [
    "if create_dataset:\n",
    "    noise_files = get_files(os.path.join(DATA_DIR, NOISE_DIR, \"audio/\"), \".wav\")\n",
    "\n",
    "    speech_categories = [\"cafe/restaurant\", \"grocery_store\", \"metro_station\"]\n",
    "    noise_files = remove_speech_noise(noise_files, os.path.join(DATA_DIR, NOISE_DIR, \"meta.txt\"), speech_categories)\n",
    "\n",
    "    for i, n_samples in enumerate(samples):\n",
    "        print(f\"Processing {datasets[i]} set\")\n",
    "        \n",
    "        # Select same number of noise samples as \n",
    "        # k speaker samples in each dataset\n",
    "        noise_samples = random.sample(noise_files, n_samples)\n",
    "\n",
    "        # Remove used samples\n",
    "        [noise_files.remove(n) for n in noise_samples]\n",
    "\n",
    "        # Downsample and save noise in dataset directories\n",
    "        process_noise(DATASET_DIR, datasets[i], noise_samples, sample_rate)\n"
   ]
  },
  {
   "cell_type": "markdown",
   "metadata": {},
   "source": [
    "## Compute Train Set Mean and Standard Deviation"
   ]
  },
  {
   "cell_type": "code",
   "execution_count": 9,
   "metadata": {},
   "outputs": [
    {
     "name": "stderr",
     "output_type": "stream",
     "text": [
      "100%|██████████| 1100/1100 [02:17<00:00,  7.97it/s]\n"
     ]
    },
    {
     "name": "stdout",
     "output_type": "stream",
     "text": [
      "Dataset mean: 0.0007768943905830383\n",
      "Dataset std: 0.002090827329084277\n"
     ]
    }
   ],
   "source": [
    "mean, std = get_train_mean_std(os.path.join(DATASET_DIR, \"train/\"))\n",
    "print(f\"Dataset mean: {mean}\")\n",
    "print(f\"Dataset std: {std}\")"
   ]
  },
  {
   "cell_type": "markdown",
   "metadata": {},
   "source": [
    "## Train"
   ]
  },
  {
   "cell_type": "markdown",
   "metadata": {},
   "source": [
    "### Data Generators"
   ]
  },
  {
   "cell_type": "code",
   "execution_count": 10,
   "metadata": {},
   "outputs": [],
   "source": [
    "train_files = [f for f in os.listdir(os.path.join(DATASET_DIR, \"train/\")) if f.endswith(\".wav\")]\n",
    "valid_files = [f for f in os.listdir(os.path.join(DATASET_DIR, \"valid/\")) if f.endswith(\".wav\")]"
   ]
  },
  {
   "cell_type": "code",
   "execution_count": 11,
   "metadata": {},
   "outputs": [],
   "source": [
    "train_generator = CustomDataGenerator(os.path.join(DATASET_DIR, \"train/\"), \n",
    "                                    train_files, dim=(500, 201), \n",
    "                                    max_k=max_k, batch_size=batch_size, \n",
    "                                    mean=mean, std=std, \n",
    "                                    s=s, shuffle=True)\n",
    "\n",
    "valid_generator = CustomDataGenerator(os.path.join(DATASET_DIR, \"valid/\"), \n",
    "                                    valid_files, dim=(500, 201), \n",
    "                                    max_k=max_k, batch_size=1, \n",
    "                                    mean=mean, std=std, \n",
    "                                    s=s, shuffle=False)"
   ]
  },
  {
   "cell_type": "markdown",
   "metadata": {},
   "source": [
    "### Model"
   ]
  },
  {
   "cell_type": "code",
   "execution_count": 12,
   "metadata": {},
   "outputs": [
    {
     "name": "stdout",
     "output_type": "stream",
     "text": [
      "Model: \"sequential\"\n",
      "_________________________________________________________________\n",
      " Layer (type)                Output Shape              Param #   \n",
      "=================================================================\n",
      " conv2d (Conv2D)             (None, 498, 199, 64)      640       \n",
      "                                                                 \n",
      " conv2d_1 (Conv2D)           (None, 496, 197, 32)      18464     \n",
      "                                                                 \n",
      " max_pooling2d (MaxPooling2D  (None, 165, 65, 32)      0         \n",
      " )                                                               \n",
      "                                                                 \n",
      " conv2d_2 (Conv2D)           (None, 163, 63, 128)      36992     \n",
      "                                                                 \n",
      " conv2d_3 (Conv2D)           (None, 161, 61, 64)       73792     \n",
      "                                                                 \n",
      " max_pooling2d_1 (MaxPooling  (None, 53, 20, 64)       0         \n",
      " 2D)                                                             \n",
      "                                                                 \n",
      " dropout (Dropout)           (None, 53, 20, 64)        0         \n",
      "                                                                 \n",
      " reshape (Reshape)           (None, 53, 1280)          0         \n",
      "                                                                 \n",
      " lstm (LSTM)                 (None, 53, 40)            211360    \n",
      "                                                                 \n",
      " max_pooling1d (MaxPooling1D  (None, 26, 40)           0         \n",
      " )                                                               \n",
      "                                                                 \n",
      " flatten (Flatten)           (None, 1040)              0         \n",
      "                                                                 \n",
      " dense (Dense)               (None, 11)                11451     \n",
      "                                                                 \n",
      " softmax (Softmax)           (None, 11)                0         \n",
      "                                                                 \n",
      "=================================================================\n",
      "Total params: 352,699\n",
      "Trainable params: 352,699\n",
      "Non-trainable params: 0\n",
      "_________________________________________________________________\n"
     ]
    }
   ],
   "source": [
    "model = CRNN((500, 201, 1), max_k)\n",
    "model.summary()"
   ]
  },
  {
   "cell_type": "markdown",
   "metadata": {},
   "source": [
    "### Compile"
   ]
  },
  {
   "cell_type": "code",
   "execution_count": 13,
   "metadata": {},
   "outputs": [],
   "source": [
    "model.compile(\n",
    "    optimizer=tf.keras.optimizers.Adam(learning_rate=lr, beta_1=0.9, beta_2=0.999, epsilon=1e-8),\n",
    "    loss=tf.keras.losses.CategoricalCrossentropy(),\n",
    "    metrics=tf.keras.metrics.CategoricalAccuracy(),\n",
    ")"
   ]
  },
  {
   "cell_type": "markdown",
   "metadata": {},
   "source": [
    "### Callbacks"
   ]
  },
  {
   "cell_type": "code",
   "execution_count": 14,
   "metadata": {},
   "outputs": [],
   "source": [
    "checkpoint = tf.keras.callbacks.ModelCheckpoint(\n",
    "    filepath=os.path.join(MODEL_DIR, 'weights.{epoch:02d}-{val_loss:.2f}.h5',),\n",
    "    save_weights_only=True,\n",
    "    monitor='val_categorical_accuracy',\n",
    "    mode='max',\n",
    "    save_best_only=True)\n",
    "\n",
    "early_stopping = tf.keras.callbacks.EarlyStopping(\n",
    "    monitor=\"val_loss\",\n",
    "    patience=10,\n",
    ")\n",
    "\n",
    "wandb_callback = WandbCallback(save_model=False)"
   ]
  },
  {
   "cell_type": "markdown",
   "metadata": {},
   "source": [
    "### Model Directory"
   ]
  },
  {
   "cell_type": "code",
   "execution_count": 15,
   "metadata": {},
   "outputs": [],
   "source": [
    "if not os.path.exists(MODEL_DIR):\n",
    "    os.makedirs(MODEL_DIR)"
   ]
  },
  {
   "cell_type": "markdown",
   "metadata": {},
   "source": [
    "### Train"
   ]
  },
  {
   "cell_type": "code",
   "execution_count": 17,
   "metadata": {},
   "outputs": [],
   "source": [
    "model.fit(train_generator, validation_data=valid_generator, epochs=epochs, callbacks=[checkpoint, early_stopping, wandb_callback])\n",
    "model.save_weights(os.path.join(MODEL_DIR, f'final_weights.h5'))"
   ]
  },
  {
   "cell_type": "code",
   "execution_count": null,
   "metadata": {},
   "outputs": [],
   "source": []
  }
 ],
 "metadata": {
  "interpreter": {
   "hash": "74909c2fc6c5882a3624724f8dc942435399229dca3d992dbbdf50c0cef614e7"
  },
  "kernelspec": {
   "display_name": "Python 3.9.11 ('asr')",
   "language": "python",
   "name": "python3"
  },
  "language_info": {
   "codemirror_mode": {
    "name": "ipython",
    "version": 3
   },
   "file_extension": ".py",
   "mimetype": "text/x-python",
   "name": "python",
   "nbconvert_exporter": "python",
   "pygments_lexer": "ipython3",
   "version": "3.9.11"
  },
  "orig_nbformat": 4
 },
 "nbformat": 4,
 "nbformat_minor": 2
}
