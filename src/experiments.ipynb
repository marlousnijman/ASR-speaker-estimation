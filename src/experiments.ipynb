{
 "cells": [
  {
   "cell_type": "markdown",
   "metadata": {},
   "source": [
    "# Experiment"
   ]
  },
  {
   "cell_type": "markdown",
   "metadata": {},
   "source": [
    "## Imports"
   ]
  },
  {
   "cell_type": "code",
   "execution_count": 55,
   "metadata": {},
   "outputs": [],
   "source": [
    "import librosa\n",
    "import os\n",
    "import soundfile as sf\n",
    "import pandas as pd\n",
    "import json\n",
    "import numpy as np\n",
    "import shutil\n",
    "from sklearn.metrics import confusion_matrix, mean_absolute_error\n",
    "import seaborn as sn\n",
    "import matplotlib.pyplot as plt\n",
    "import json\n",
    "\n",
    "from preprocessing import get_chunks\n",
    "from model import CRNN\n",
    "from util import *"
   ]
  },
  {
   "cell_type": "markdown",
   "metadata": {},
   "source": [
    "## Paths"
   ]
  },
  {
   "cell_type": "code",
   "execution_count": 56,
   "metadata": {},
   "outputs": [],
   "source": [
    "DATA_DIR = \"../../data/\"\n",
    "INPUT_DIR = os.path.join(DATA_DIR, \"test-real/\")\n",
    "OUTPUT_DIR = os.path.join(DATA_DIR, \"processed/test-real/\")\n",
    "DATASET_DIR = os.path.join(DATA_DIR, \"dataset/\")\n",
    "ANNOTATIONS_DIR = os.path.join(DATA_DIR, \"annotations/\")\n",
    "MODEL_DIR = \"../models/\"\n",
    "IMAGE_DIR = \"../images/\"\n",
    "\n",
    "SCALING_FILE = os.path.join(DATA_DIR, \"scaling_parameters.json\")\n",
    "BEST_MODEL = os.path.join(MODEL_DIR, \"best_weights.h5\")"
   ]
  },
  {
   "cell_type": "code",
   "execution_count": 57,
   "metadata": {},
   "outputs": [],
   "source": [
    "filenames = [\"family_3.m4a\", \"family_4.m4a\", \"family_5.m4a\", \"podcast_3.mp3\", \"debate_3.wav\"]"
   ]
  },
  {
   "cell_type": "markdown",
   "metadata": {},
   "source": [
    "## Parameters"
   ]
  },
  {
   "cell_type": "code",
   "execution_count": 58,
   "metadata": {},
   "outputs": [],
   "source": [
    "max_k = 10\n",
    "sample_rate = 16000\n",
    "s = 5\n",
    "test_max_k = 5\n",
    "preprocessing = False"
   ]
  },
  {
   "cell_type": "markdown",
   "metadata": {},
   "source": [
    "## Preprocessing"
   ]
  },
  {
   "cell_type": "code",
   "execution_count": 59,
   "metadata": {},
   "outputs": [],
   "source": [
    "if preprocessing:\n",
    "    for filename in filenames:\n",
    "        audio, samplerate = librosa.load(os.path.join(INPUT_DIR, filename), sr=sample_rate)\n",
    "        chunks = get_chunks(audio, samplerate, s=s)\n",
    "        \n",
    "        name = filename[:filename.find(\".\")]\n",
    "        output_dir = os.path.join(OUTPUT_DIR, f\"{name}/\")\n",
    "\n",
    "        if not os.path.exists(output_dir):\n",
    "            os.makedirs(output_dir)\n",
    "\n",
    "        for i, chunk in enumerate(chunks):\n",
    "            sf.write(os.path.join(output_dir, f\"{name}_{i:05}.wav\"), chunk, samplerate)"
   ]
  },
  {
   "cell_type": "markdown",
   "metadata": {},
   "source": [
    "## Load Data"
   ]
  },
  {
   "cell_type": "code",
   "execution_count": 60,
   "metadata": {},
   "outputs": [],
   "source": [
    "annot_files = [filename[:filename.find(\".\")]+\".csv\" for filename in filenames]"
   ]
  },
  {
   "cell_type": "code",
   "execution_count": 61,
   "metadata": {},
   "outputs": [],
   "source": [
    "dfs = []\n",
    "for annot_file in annot_files:\n",
    "    df = pd.read_csv(os.path.join(ANNOTATIONS_DIR, annot_file))\n",
    "    df = df[['audio', 'label']]\n",
    "    df['label'] = df['label'].apply(json.loads)\n",
    "    dfs.append(df)\n",
    "\n",
    "data = pd.concat(dfs)"
   ]
  },
  {
   "cell_type": "code",
   "execution_count": 62,
   "metadata": {},
   "outputs": [
    {
     "data": {
      "text/html": [
       "<div>\n",
       "<style scoped>\n",
       "    .dataframe tbody tr th:only-of-type {\n",
       "        vertical-align: middle;\n",
       "    }\n",
       "\n",
       "    .dataframe tbody tr th {\n",
       "        vertical-align: top;\n",
       "    }\n",
       "\n",
       "    .dataframe thead th {\n",
       "        text-align: right;\n",
       "    }\n",
       "</style>\n",
       "<table border=\"1\" class=\"dataframe\">\n",
       "  <thead>\n",
       "    <tr style=\"text-align: right;\">\n",
       "      <th></th>\n",
       "      <th>audio</th>\n",
       "      <th>label</th>\n",
       "    </tr>\n",
       "  </thead>\n",
       "  <tbody>\n",
       "    <tr>\n",
       "      <th>0</th>\n",
       "      <td>/data/upload/1/18260f45-family_3_00011.wav</td>\n",
       "      <td>[{'start': 0.008417508417508417, 'end': 4.9915...</td>\n",
       "    </tr>\n",
       "    <tr>\n",
       "      <th>1</th>\n",
       "      <td>/data/upload/1/95ccfbc5-family_3_00010.wav</td>\n",
       "      <td>[{'start': 0.016835016835016835, 'end': 4.9915...</td>\n",
       "    </tr>\n",
       "    <tr>\n",
       "      <th>2</th>\n",
       "      <td>/data/upload/1/15e86196-family_3_00009.wav</td>\n",
       "      <td>[{'start': 0, 'end': 1.4393939393939394, 'labe...</td>\n",
       "    </tr>\n",
       "    <tr>\n",
       "      <th>3</th>\n",
       "      <td>/data/upload/1/865b1f26-family_3_00008.wav</td>\n",
       "      <td>[{'start': 0.03367003367003367, 'end': 4.99579...</td>\n",
       "    </tr>\n",
       "    <tr>\n",
       "      <th>4</th>\n",
       "      <td>/data/upload/1/30bc51bf-family_3_00007.wav</td>\n",
       "      <td>[{'start': -0.004208754208754209, 'end': 4.987...</td>\n",
       "    </tr>\n",
       "  </tbody>\n",
       "</table>\n",
       "</div>"
      ],
      "text/plain": [
       "                                        audio  \\\n",
       "0  /data/upload/1/18260f45-family_3_00011.wav   \n",
       "1  /data/upload/1/95ccfbc5-family_3_00010.wav   \n",
       "2  /data/upload/1/15e86196-family_3_00009.wav   \n",
       "3  /data/upload/1/865b1f26-family_3_00008.wav   \n",
       "4  /data/upload/1/30bc51bf-family_3_00007.wav   \n",
       "\n",
       "                                               label  \n",
       "0  [{'start': 0.008417508417508417, 'end': 4.9915...  \n",
       "1  [{'start': 0.016835016835016835, 'end': 4.9915...  \n",
       "2  [{'start': 0, 'end': 1.4393939393939394, 'labe...  \n",
       "3  [{'start': 0.03367003367003367, 'end': 4.99579...  \n",
       "4  [{'start': -0.004208754208754209, 'end': 4.987...  "
      ]
     },
     "execution_count": 62,
     "metadata": {},
     "output_type": "execute_result"
    }
   ],
   "source": [
    "data.head()"
   ]
  },
  {
   "cell_type": "code",
   "execution_count": 63,
   "metadata": {},
   "outputs": [
    {
     "data": {
      "text/plain": [
       "737"
      ]
     },
     "execution_count": 63,
     "metadata": {},
     "output_type": "execute_result"
    }
   ],
   "source": [
    "len(data)"
   ]
  },
  {
   "cell_type": "markdown",
   "metadata": {},
   "source": [
    "## Compute Labels"
   ]
  },
  {
   "cell_type": "code",
   "execution_count": 64,
   "metadata": {},
   "outputs": [],
   "source": [
    "k = []\n",
    "audio_files = []\n",
    "\n",
    "for i, row in data.iterrows():\n",
    "    indices = np.zeros(5 * sample_rate)\n",
    "\n",
    "    for label in row[\"label\"]:\n",
    "        start = max(round(label['start'] * sample_rate), 0)\n",
    "        end = round(label['end'] * sample_rate)\n",
    "        indices[start:end] += 1 \n",
    "\n",
    "    audio_file = row[\"audio\"][row[\"audio\"].index(\"-\")+1:]\n",
    "    audio_files.append(audio_file)\n",
    "\n",
    "    k.append(int(np.max(indices)))"
   ]
  },
  {
   "cell_type": "code",
   "execution_count": 65,
   "metadata": {},
   "outputs": [],
   "source": [
    "annotated_data = pd.DataFrame({\"audio\": audio_files, \"k\": k})"
   ]
  },
  {
   "cell_type": "code",
   "execution_count": 66,
   "metadata": {},
   "outputs": [
    {
     "data": {
      "text/html": [
       "<div>\n",
       "<style scoped>\n",
       "    .dataframe tbody tr th:only-of-type {\n",
       "        vertical-align: middle;\n",
       "    }\n",
       "\n",
       "    .dataframe tbody tr th {\n",
       "        vertical-align: top;\n",
       "    }\n",
       "\n",
       "    .dataframe thead th {\n",
       "        text-align: right;\n",
       "    }\n",
       "</style>\n",
       "<table border=\"1\" class=\"dataframe\">\n",
       "  <thead>\n",
       "    <tr style=\"text-align: right;\">\n",
       "      <th></th>\n",
       "      <th>audio</th>\n",
       "      <th>k</th>\n",
       "    </tr>\n",
       "  </thead>\n",
       "  <tbody>\n",
       "    <tr>\n",
       "      <th>0</th>\n",
       "      <td>family_3_00011.wav</td>\n",
       "      <td>3</td>\n",
       "    </tr>\n",
       "    <tr>\n",
       "      <th>1</th>\n",
       "      <td>family_3_00010.wav</td>\n",
       "      <td>3</td>\n",
       "    </tr>\n",
       "    <tr>\n",
       "      <th>2</th>\n",
       "      <td>family_3_00009.wav</td>\n",
       "      <td>3</td>\n",
       "    </tr>\n",
       "    <tr>\n",
       "      <th>3</th>\n",
       "      <td>family_3_00008.wav</td>\n",
       "      <td>3</td>\n",
       "    </tr>\n",
       "    <tr>\n",
       "      <th>4</th>\n",
       "      <td>family_3_00007.wav</td>\n",
       "      <td>3</td>\n",
       "    </tr>\n",
       "  </tbody>\n",
       "</table>\n",
       "</div>"
      ],
      "text/plain": [
       "                audio  k\n",
       "0  family_3_00011.wav  3\n",
       "1  family_3_00010.wav  3\n",
       "2  family_3_00009.wav  3\n",
       "3  family_3_00008.wav  3\n",
       "4  family_3_00007.wav  3"
      ]
     },
     "execution_count": 66,
     "metadata": {},
     "output_type": "execute_result"
    }
   ],
   "source": [
    "annotated_data.head()"
   ]
  },
  {
   "cell_type": "markdown",
   "metadata": {},
   "source": [
    "## Create Test Dataset"
   ]
  },
  {
   "cell_type": "markdown",
   "metadata": {},
   "source": [
    "### Assign Index"
   ]
  },
  {
   "cell_type": "code",
   "execution_count": 67,
   "metadata": {},
   "outputs": [],
   "source": [
    "counts = []\n",
    "for i in range(1, 5+1):\n",
    "    n_k = len(annotated_data[annotated_data['k'] == i])\n",
    "    counts.extend(np.arange(n_k))"
   ]
  },
  {
   "cell_type": "code",
   "execution_count": 68,
   "metadata": {},
   "outputs": [
    {
     "data": {
      "text/html": [
       "<div>\n",
       "<style scoped>\n",
       "    .dataframe tbody tr th:only-of-type {\n",
       "        vertical-align: middle;\n",
       "    }\n",
       "\n",
       "    .dataframe tbody tr th {\n",
       "        vertical-align: top;\n",
       "    }\n",
       "\n",
       "    .dataframe thead th {\n",
       "        text-align: right;\n",
       "    }\n",
       "</style>\n",
       "<table border=\"1\" class=\"dataframe\">\n",
       "  <thead>\n",
       "    <tr style=\"text-align: right;\">\n",
       "      <th></th>\n",
       "      <th>audio</th>\n",
       "      <th>k</th>\n",
       "      <th>count</th>\n",
       "    </tr>\n",
       "  </thead>\n",
       "  <tbody>\n",
       "    <tr>\n",
       "      <th>0</th>\n",
       "      <td>debate_3_00000.wav</td>\n",
       "      <td>1</td>\n",
       "      <td>0</td>\n",
       "    </tr>\n",
       "    <tr>\n",
       "      <th>1</th>\n",
       "      <td>podcast_3_00133.wav</td>\n",
       "      <td>1</td>\n",
       "      <td>1</td>\n",
       "    </tr>\n",
       "    <tr>\n",
       "      <th>2</th>\n",
       "      <td>debate_3_00236.wav</td>\n",
       "      <td>1</td>\n",
       "      <td>2</td>\n",
       "    </tr>\n",
       "    <tr>\n",
       "      <th>3</th>\n",
       "      <td>debate_3_00234.wav</td>\n",
       "      <td>1</td>\n",
       "      <td>3</td>\n",
       "    </tr>\n",
       "    <tr>\n",
       "      <th>4</th>\n",
       "      <td>debate_3_00233.wav</td>\n",
       "      <td>1</td>\n",
       "      <td>4</td>\n",
       "    </tr>\n",
       "  </tbody>\n",
       "</table>\n",
       "</div>"
      ],
      "text/plain": [
       "                 audio  k  count\n",
       "0   debate_3_00000.wav  1      0\n",
       "1  podcast_3_00133.wav  1      1\n",
       "2   debate_3_00236.wav  1      2\n",
       "3   debate_3_00234.wav  1      3\n",
       "4   debate_3_00233.wav  1      4"
      ]
     },
     "execution_count": 68,
     "metadata": {},
     "output_type": "execute_result"
    }
   ],
   "source": [
    "annotated_data = annotated_data.sort_values(by=\"k\").reset_index(drop=True)\n",
    "annotated_data[\"count\"] = counts\n",
    "annotated_data.head()"
   ]
  },
  {
   "cell_type": "markdown",
   "metadata": {},
   "source": [
    "### Make Directories"
   ]
  },
  {
   "cell_type": "code",
   "execution_count": 69,
   "metadata": {},
   "outputs": [],
   "source": [
    "dirs = os.listdir(OUTPUT_DIR)\n",
    "for directory in dirs:\n",
    "    dataset_dir = os.path.join(DATASET_DIR, directory)\n",
    "    if not os.path.exists(dataset_dir):\n",
    "        os.makedirs(dataset_dir)"
   ]
  },
  {
   "cell_type": "markdown",
   "metadata": {},
   "source": [
    "### Copy Files and Change File Name"
   ]
  },
  {
   "cell_type": "code",
   "execution_count": 70,
   "metadata": {},
   "outputs": [],
   "source": [
    "for i, row in annotated_data.iterrows():\n",
    "    dir_name = row[\"audio\"][:row[\"audio\"].index(\".\")-6]\n",
    "    from_path = os.path.join(OUTPUT_DIR, dir_name, row[\"audio\"])\n",
    "    to_path = os.path.join(DATASET_DIR, dir_name, f\"{row['k']:02}_speakers_{row['count']}.wav\")\n",
    "    shutil.copy(from_path, to_path)"
   ]
  },
  {
   "cell_type": "markdown",
   "metadata": {},
   "source": [
    "## Load Scaling Parameters"
   ]
  },
  {
   "cell_type": "code",
   "execution_count": 71,
   "metadata": {},
   "outputs": [],
   "source": [
    "with open(SCALING_FILE, 'r') as f:\n",
    "        scaling_parameters = json.load(f)\n",
    "\n",
    "mean = scaling_parameters[\"mean\"]\n",
    "std = scaling_parameters[\"std\"]"
   ]
  },
  {
   "cell_type": "code",
   "execution_count": 72,
   "metadata": {},
   "outputs": [
    {
     "name": "stdout",
     "output_type": "stream",
     "text": [
      "Dataset mean: 0.0007900168420746922\n",
      "Dataset std: 0.002085912274196744\n"
     ]
    }
   ],
   "source": [
    "print(f\"Dataset mean: {mean}\")\n",
    "print(f\"Dataset std: {std}\")"
   ]
  },
  {
   "cell_type": "markdown",
   "metadata": {},
   "source": [
    "## Load Model"
   ]
  },
  {
   "cell_type": "code",
   "execution_count": 73,
   "metadata": {},
   "outputs": [
    {
     "name": "stdout",
     "output_type": "stream",
     "text": [
      "Model: \"sequential_1\"\n",
      "_________________________________________________________________\n",
      " Layer (type)                Output Shape              Param #   \n",
      "=================================================================\n",
      " conv2d_4 (Conv2D)           (None, 498, 199, 64)      640       \n",
      "                                                                 \n",
      " conv2d_5 (Conv2D)           (None, 496, 197, 32)      18464     \n",
      "                                                                 \n",
      " max_pooling2d_2 (MaxPooling  (None, 165, 65, 32)      0         \n",
      " 2D)                                                             \n",
      "                                                                 \n",
      " conv2d_6 (Conv2D)           (None, 163, 63, 128)      36992     \n",
      "                                                                 \n",
      " conv2d_7 (Conv2D)           (None, 161, 61, 64)       73792     \n",
      "                                                                 \n",
      " max_pooling2d_3 (MaxPooling  (None, 53, 20, 64)       0         \n",
      " 2D)                                                             \n",
      "                                                                 \n",
      " dropout_1 (Dropout)         (None, 53, 20, 64)        0         \n",
      "                                                                 \n",
      " reshape_1 (Reshape)         (None, 53, 1280)          0         \n",
      "                                                                 \n",
      " lstm_1 (LSTM)               (None, 53, 40)            211360    \n",
      "                                                                 \n",
      " max_pooling1d_1 (MaxPooling  (None, 26, 40)           0         \n",
      " 1D)                                                             \n",
      "                                                                 \n",
      " flatten_1 (Flatten)         (None, 1040)              0         \n",
      "                                                                 \n",
      " dense_1 (Dense)             (None, 11)                11451     \n",
      "                                                                 \n",
      " softmax_1 (Softmax)         (None, 11)                0         \n",
      "                                                                 \n",
      "=================================================================\n",
      "Total params: 352,699\n",
      "Trainable params: 352,699\n",
      "Non-trainable params: 0\n",
      "_________________________________________________________________\n"
     ]
    }
   ],
   "source": [
    "model = CRNN((500, 201, 1), max_k)\n",
    "model.summary()"
   ]
  },
  {
   "cell_type": "markdown",
   "metadata": {},
   "source": [
    "## Test"
   ]
  },
  {
   "cell_type": "markdown",
   "metadata": {},
   "source": [
    "### Data Generator"
   ]
  },
  {
   "cell_type": "code",
   "execution_count": 74,
   "metadata": {},
   "outputs": [],
   "source": [
    "test_files = [f for f in os.listdir(os.path.join(DATASET_DIR, \"test-real/\")) if f.endswith(\".wav\")]"
   ]
  },
  {
   "cell_type": "code",
   "execution_count": 75,
   "metadata": {},
   "outputs": [],
   "source": [
    "test_generator = CustomDataGenerator(os.path.join(DATASET_DIR, \"test-real/\"), \n",
    "                                    test_files, dim=(500, 201), \n",
    "                                    max_k=max_k, batch_size=1, \n",
    "                                    mean=mean, std=std, \n",
    "                                    s=s, train=False, shuffle=False)"
   ]
  },
  {
   "cell_type": "markdown",
   "metadata": {},
   "source": [
    "### Get Predictions & Labels"
   ]
  },
  {
   "cell_type": "code",
   "execution_count": 76,
   "metadata": {},
   "outputs": [],
   "source": [
    "model.load_weights(os.path.join(MODEL_DIR, BEST_MODEL))\n",
    "predictions = model.predict(test_generator)\n",
    "labels = test_generator.get_classes()\n",
    "pred = np.argmax(predictions, axis=1)\n",
    "true = np.argmax(labels, axis=1)"
   ]
  },
  {
   "cell_type": "markdown",
   "metadata": {},
   "source": [
    "## Analysis"
   ]
  },
  {
   "cell_type": "markdown",
   "metadata": {},
   "source": [
    "### Image Direcotry"
   ]
  },
  {
   "cell_type": "code",
   "execution_count": 77,
   "metadata": {},
   "outputs": [],
   "source": [
    "if not os.path.exists(IMAGE_DIR):\n",
    "    os.makedirs(IMAGE_DIR)"
   ]
  },
  {
   "cell_type": "markdown",
   "metadata": {},
   "source": [
    "### Confusion Matrix"
   ]
  },
  {
   "cell_type": "code",
   "execution_count": 78,
   "metadata": {},
   "outputs": [
    {
     "data": {
      "image/png": "[encoded data removed]",
      "text/plain": [
       "<Figure size 432x288 with 2 Axes>"
      ]
     },
     "metadata": {
      "needs_background": "light"
     },
     "output_type": "display_data"
    }
   ],
   "source": [
    "cm = confusion_matrix(true, pred, labels=np.arange(max_k+1))\n",
    "sn.heatmap(cm, annot=True, fmt=\"g\", cmap=\"Blues\", vmin=0, vmax=90)\n",
    "plt.ylabel(\"True\")\n",
    "plt.xlabel(\"Predicted\")\n",
    "plt.savefig(os.path.join(IMAGE_DIR, \"confusion_matrix.png\"))\n",
    "plt.show()"
   ]
  },
  {
   "cell_type": "markdown",
   "metadata": {},
   "source": [
    "## Mean Absolute Error"
   ]
  },
  {
   "cell_type": "code",
   "execution_count": 79,
   "metadata": {},
   "outputs": [],
   "source": [
    "mae_scores = []\n",
    "for i in range(1,test_max_k+1):\n",
    "    mae = mean_absolute_error(true[true == i], pred[true == i])\n",
    "    mae_scores.append(mae)"
   ]
  },
  {
   "cell_type": "code",
   "execution_count": 80,
   "metadata": {},
   "outputs": [
    {
     "data": {
      "image/png": "[encoded data removed]",
      "text/plain": [
       "<Figure size 432x288 with 1 Axes>"
      ]
     },
     "metadata": {
      "needs_background": "light"
     },
     "output_type": "display_data"
    }
   ],
   "source": [
    "plt.plot(np.arange(1,test_max_k+1), mae_scores)\n",
    "plt.xlabel(\"Number of Speakers\")\n",
    "plt.ylabel(\"MAE\")\n",
    "plt.xticks(np.arange(1,test_max_k+1))\n",
    "plt.savefig(os.path.join(IMAGE_DIR, \"mae.png\"))\n",
    "plt.show()"
   ]
  },
  {
   "cell_type": "code",
   "execution_count": null,
   "metadata": {},
   "outputs": [],
   "source": []
  }
 ],
 "metadata": {
  "interpreter": {
   "hash": "74909c2fc6c5882a3624724f8dc942435399229dca3d992dbbdf50c0cef614e7"
  },
  "kernelspec": {
   "display_name": "Python 3.9.11 ('asr')",
   "language": "python",
   "name": "python3"
  },
  "language_info": {
   "codemirror_mode": {
    "name": "ipython",
    "version": 3
   },
   "file_extension": ".py",
   "mimetype": "text/x-python",
   "name": "python",
   "nbconvert_exporter": "python",
   "pygments_lexer": "ipython3",
   "version": "3.9.11"
  },
  "orig_nbformat": 4
 },
 "nbformat": 4,
 "nbformat_minor": 2
}
